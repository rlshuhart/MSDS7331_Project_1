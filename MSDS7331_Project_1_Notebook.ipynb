{
 "cells": [
  {
   "cell_type": "markdown",
   "metadata": {},
   "source": [
    "# MSDS 7331 - Project 1 - Visualization\n",
    "## Team: Dineen Parker, Dale Legband, Ryan Shuhart"
   ]
  },
  {
   "cell_type": "code",
   "execution_count": 61,
   "metadata": {
    "collapsed": false
   },
   "outputs": [],
   "source": [
    "### Modules Used ###\n",
    "\n",
    "# Pandas Module for data manipulation\n",
    "import pandas as pd\n",
    "\n",
    "# pandas_profiling is a handy tool for inspecting data\n",
    "# https://github.com/JosPolfliet/pandas-profiling\n",
    "# pip install pandas-profiling\n",
    "import pandas_profiling\n",
    "\n",
    "# seaborn and matplotlib\n",
    "import matplotlib.pyplot as plt\n",
    "import seaborn as sns\n",
    "%matplotlib inline\n",
    "\n",
    "# Page settings - might not need...\n",
    "pd.set_option('display.max_rows', 500)\n",
    "pd.set_option('display.max_columns', 500)"
   ]
  },
  {
   "cell_type": "markdown",
   "metadata": {},
   "source": [
    "# Business Understanding (10 points total).\n",
    "* Describe the purpose of the data set you selected (i.e., why was this data collected in\n",
    "the first place?). \n",
    "* Describe how you would define and measure the outcomes from the\n",
    "dataset. That is, why is this data important and how do you know if you have mined\n",
    "useful knowledge from the dataset? \n",
    "* How would you measure the effectiveness of a\n",
    "good prediction algorithm? Be specific.\n",
    "\n",
    "From CRISP-DM article (https://mineracaodedados.files.wordpress.com/2012/04/the-crisp-dm-model-the-new-blueprint-for-data-mining-shearer-colin.pdf):\n",
    "* What are the measures of success?\n",
    "* Are there any assumptions?\n",
    "* Create a glossary, if needed"
   ]
  },
  {
   "cell_type": "code",
   "execution_count": null,
   "metadata": {
    "collapsed": false
   },
   "outputs": [],
   "source": []
  },
  {
   "cell_type": "markdown",
   "metadata": {},
   "source": [
    "# Data Understanding (80 points total)\n",
    "\n",
    "* [15 points] Verify data quality: Explain any missing values, duplicate data, and outliers.\n",
    "Are those mistakes? How do you deal with these problems? Give justifications for your\n",
    "methods.\n",
    "\n",
    "* [10 points] Visualize appropriate statistics (e.g., range, mode, mean, median, variance,\n",
    "counts) for a subset of attributes. Describe anything meaningful you found from this or if\n",
    "you found something potentially interesting. Note: You can also use data from other\n",
    "sources for comparison. Explain why the statistics run are meaningful.\n",
    "\n",
    "* [15 points] Visualize the most interesting attributes (at least 5 attributes, your opinion\n",
    "on what is interesting). Important: Interpret the implications for each\n",
    "visualization. Explain for each attribute why the chosen visualization is appropriate.\n",
    "\n",
    "* [15 points] Visualize relationships between attributes: Look at the attributes via scatter\n",
    "plots, correlation, cross-tabulation, group-wise averages, etc. as appropriate. Explain\n",
    "any interesting relationships.\n",
    "\n",
    "* [10 points] Identify and explain interesting relationships between features and the class\n",
    "you are trying to predict (i.e., relationships with variables and the target classification).\n",
    "\n",
    "* [5 points] Are there other features that could be added to the data or created from\n",
    "existing features? Which ones?"
   ]
  },
  {
   "cell_type": "markdown",
   "metadata": {},
   "source": [
    "### Collect Initial Data"
   ]
  },
  {
   "cell_type": "code",
   "execution_count": null,
   "metadata": {
    "collapsed": true
   },
   "outputs": [],
   "source": [
    "# Data comes from the UCI Machine Learning Repository\n",
    "# http://archive.ics.uci.edu/ml/datasets/default+of+credit+card+clients\n",
    "# load the data into memory source. First row are for reference with headings starting on line 2.\n",
    "# ID field is use as the index field in the data frame\n",
    "cc_data = pd.read_excel(\"./cc_data/default of credit card clients.xls\", skiprows=1, index_col='ID')\n",
    "\n",
    "# Convert numerical representations to category names\n",
    "cc_data.loc[(cc_data['SEX']==1), 'SEX'] = 'Male'\n",
    "cc_data.loc[(cc_data['SEX']==2), 'SEX'] = 'Female'\n",
    "\n",
    "cc_data.loc[(cc_data['EDUCATION']==1), 'EDUCATION'] = 'graduate school'\n",
    "cc_data.loc[(cc_data['EDUCATION']==2), 'EDUCATION'] = 'university'\n",
    "cc_data.loc[(cc_data['EDUCATION']==3), 'EDUCATION'] = 'high school'\n",
    "cc_data.loc[(cc_data['EDUCATION']==4), 'EDUCATION'] = 'others'\n",
    "\n",
    "cc_data.loc[(cc_data['MARRIAGE']==1), 'MARRIAGE'] = 'Married'\n",
    "cc_data.loc[(cc_data['MARRIAGE']==2), 'MARRIAGE'] = 'Single'\n",
    "cc_data.loc[(cc_data['MARRIAGE']==3), 'MARRIAGE'] = 'Others'\n",
    "cc_data.loc[(cc_data['MARRIAGE']==0), 'MARRIAGE'] = 'Others' # What is the 0? Imputing to 'Others'"
   ]
  },
  {
   "cell_type": "markdown",
   "metadata": {},
   "source": [
    "### Describe the data"
   ]
  },
  {
   "cell_type": "code",
   "execution_count": 64,
   "metadata": {
    "collapsed": false
   },
   "outputs": [
    {
     "name": "stdout",
     "output_type": "stream",
     "text": [
      "<class 'pandas.core.frame.DataFrame'>\n",
      "Int64Index: 30000 entries, 1 to 30000\n",
      "Data columns (total 24 columns):\n",
      "LIMIT_BAL                     30000 non-null int64\n",
      "SEX                           30000 non-null object\n",
      "EDUCATION                     30000 non-null object\n",
      "MARRIAGE                      30000 non-null object\n",
      "AGE                           30000 non-null int64\n",
      "PAY_0                         30000 non-null int64\n",
      "PAY_2                         30000 non-null int64\n",
      "PAY_3                         30000 non-null int64\n",
      "PAY_4                         30000 non-null int64\n",
      "PAY_5                         30000 non-null int64\n",
      "PAY_6                         30000 non-null int64\n",
      "BILL_AMT1                     30000 non-null int64\n",
      "BILL_AMT2                     30000 non-null int64\n",
      "BILL_AMT3                     30000 non-null int64\n",
      "BILL_AMT4                     30000 non-null int64\n",
      "BILL_AMT5                     30000 non-null int64\n",
      "BILL_AMT6                     30000 non-null int64\n",
      "PAY_AMT1                      30000 non-null int64\n",
      "PAY_AMT2                      30000 non-null int64\n",
      "PAY_AMT3                      30000 non-null int64\n",
      "PAY_AMT4                      30000 non-null int64\n",
      "PAY_AMT5                      30000 non-null int64\n",
      "PAY_AMT6                      30000 non-null int64\n",
      "default payment next month    30000 non-null int64\n",
      "dtypes: int64(21), object(3)\n",
      "memory usage: 5.7+ MB\n"
     ]
    }
   ],
   "source": [
    "cc_data.info()"
   ]
  },
  {
   "cell_type": "markdown",
   "metadata": {},
   "source": [
    "* [10 points] Describe the meaning and type of data (scale, values, etc.) for each\n",
    "attribute in the data file.\n",
    "\n",
    "#### Summary Statistics\n",
    "- Distribution of Defaults (facet plot)\n",
    " - by age\n",
    " - by sex\n",
    " - by education\n",
    " - by marriage\n",
    "- Distribution of age\n",
    "- Distribution of sex\n",
    "- Distribution of education<br><br>\n",
    "- CC History frequency tables\n",
    " - by age\n",
    " - by sex\n",
    " - by education\n",
    " - by marriage"
   ]
  },
  {
   "cell_type": "code",
   "execution_count": 67,
   "metadata": {
    "collapsed": false
   },
   "outputs": [
    {
     "data": {
      "text/plain": [
       "MARRIAGE\n",
       "Married    13659\n",
       "Others       377\n",
       "Single     15964\n",
       "Name: MARRIAGE, dtype: int64"
      ]
     },
     "execution_count": 67,
     "metadata": {},
     "output_type": "execute_result"
    }
   ],
   "source": [
    "cc_data.groupby('MARRIAGE')['MARRIAGE'].count()"
   ]
  },
  {
   "cell_type": "markdown",
   "metadata": {
    "collapsed": true
   },
   "source": [
    "### Explore the data"
   ]
  },
  {
   "cell_type": "code",
   "execution_count": 32,
   "metadata": {
    "collapsed": false
   },
   "outputs": [],
   "source": [
    "#profile = pandas_profiling.ProfileReport(cc_data)\n",
    "#profile.to_file(outputfile=\"./myoutputfile.html\")"
   ]
  },
  {
   "cell_type": "code",
   "execution_count": 55,
   "metadata": {
    "collapsed": false
   },
   "outputs": [
    {
     "data": {
      "text/plain": [
       "<matplotlib.axes._subplots.AxesSubplot at 0xb70aeb8>"
      ]
     },
     "execution_count": 55,
     "metadata": {},
     "output_type": "execute_result"
    },
    {
     "data": {
      "image/png": "[encoded data removed]",
      "text/plain": [
       "<matplotlib.figure.Figure at 0xb73d470>"
      ]
     },
     "metadata": {},
     "output_type": "display_data"
    }
   ],
   "source": [
    "sns.violinplot(data=cc_data, x='default payment next month',y='LIMIT_BAL', hue='SEX', split=True, inner=\"quart\")"
   ]
  },
  {
   "cell_type": "code",
   "execution_count": null,
   "metadata": {
    "collapsed": true
   },
   "outputs": [],
   "source": []
  },
  {
   "cell_type": "markdown",
   "metadata": {},
   "source": [
    "### Verify the data quality"
   ]
  },
  {
   "cell_type": "code",
   "execution_count": null,
   "metadata": {
    "collapsed": true
   },
   "outputs": [],
   "source": []
  },
  {
   "cell_type": "markdown",
   "metadata": {},
   "source": [
    "# Exceptional Work (10 points total)\n",
    "* You have free reign to provide additional analyses.\n",
    "*One idea: implement dimensionality reduction, then visualize and interpret the results.\n",
    "\n",
    "feature creation ideas:\n",
    "* Age brackets\n",
    "* Ratio of Pay Amount to Bill Amount\n",
    "* Ratio of Bill Amount to LIMIT_BAL\n",
    "* Transformation of data - scaling"
   ]
  },
  {
   "cell_type": "code",
   "execution_count": null,
   "metadata": {
    "collapsed": true
   },
   "outputs": [],
   "source": []
  },
  {
   "cell_type": "markdown",
   "metadata": {
    "collapsed": true
   },
   "source": [
    "Sources:\n",
    "https://www.wakari.io/sharing/bundle/ijstokes/pyvis-1h?has_login=False"
   ]
  }
 ],
 "metadata": {
  "kernelspec": {
   "display_name": "Python 3",
   "language": "python",
   "name": "python3"
  },
  "language_info": {
   "codemirror_mode": {
    "name": "ipython",
    "version": 3
   },
   "file_extension": ".py",
   "mimetype": "text/x-python",
   "name": "python",
   "nbconvert_exporter": "python",
   "pygments_lexer": "ipython3",
   "version": "3.5.1"
  }
 },
 "nbformat": 4,
 "nbformat_minor": 0
}
