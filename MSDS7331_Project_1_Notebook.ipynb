{
 "cells": [
  {
   "cell_type": "markdown",
   "metadata": {},
   "source": [
    "# MSDS 7331 - Project 1 - Visualization\n",
    "## Team: Dineen Parker, Dale Legband, Ryan Shuhart\n",
    "collaboration site: https://github.com/rlshuhart/MSDS7331_Project_1"
   ]
  },
  {
   "cell_type": "code",
   "execution_count": 1,
   "metadata": {
    "collapsed": false
   },
   "outputs": [],
   "source": [
    "### Modules Used ###\n",
    "\n",
    "# Pandas Module for data manipulation\n",
    "import pandas as pd\n",
    "import numpy as np\n",
    "\n",
    "# pandas_profiling is a handy tool for inspecting data\n",
    "# https://github.com/JosPolfliet/pandas-profiling\n",
    "# pip install pandas-profiling\n",
    "import pandas_profiling\n",
    "\n",
    "# seaborn and matplotlib\n",
    "import matplotlib.pyplot as plt\n",
    "import seaborn as sns\n",
    "\n",
    "# Page settings - might not need...\n",
    "pd.set_option('display.max_rows', 1000)\n",
    "pd.set_option('display.max_columns', 1000)\n",
    "\n",
    "# Prevents scientific notation formatting issues. Limits floats to one decimal place.\n",
    "pd.set_option('display.float_format', lambda x: '%.3f' % x) "
   ]
  },
  {
   "cell_type": "markdown",
   "metadata": {},
   "source": [
    "# Business Understanding\n",
    "Credit card companies collect voluminous amounts of data which is ripe for analysis. The data for this project was originally provided to researchers to evaluate which data mining model could best predict defaults. The value of understanding the probability of who will default in advance given past behavior was once leading edge but now required to run a profitable credit card business. \n",
    "Here we wish to understand and visulalize the data and in future project build models that best predict the probability of default for each customer. \n",
    "* This data was collected as a part of the day to day business of running a credit card business. \n",
    "* The actual defaults per person are provided.  Plenty of data is provided to run test and validation runs. \n",
    "* Bank business people, with enough accuracy, can decide on actions to help the consumers avoid default or recover quickly.\n",
    "* Accuracy of the forecast is important, but perfection cannot be expected.  Therefore, business actions will need to be adjusted based on the probability of default.\n",
    "  * For example, selected individuals show on time payments for many months then suddenly default 'unexpectedly'.\n",
    "* Accuracy can be tracked month by month and business practices adjusted accordingly.\n",
    "* For the initial modeling, understanding and organizing the data is critical.\n",
    "* Assumptions include:\n",
    "  * The latest bill amount BILL_AMT1_SEPT is the amount defaulted upon.\n",
    "  * Various adjustments given the real data as reported below."
   ]
  },
  {
   "cell_type": "markdown",
   "metadata": {},
   "source": [
    "# Data Understanding"
   ]
  },
  {
   "cell_type": "markdown",
   "metadata": {},
   "source": [
    "### Collect Initial Data\n",
    "Data comes from the UCI Machine Learning Repository\n",
    "\n",
    "http://archive.ics.uci.edu/ml/datasets/default+of+credit+card+clients\n",
    "\n",
    "The given description: <br>\n",
    "\"This research aimed at the case of customer default payments in Taiwan and compares the predictive accuracy of probability of default among six data mining methods. From the perspective of risk management, the result of predictive accuracy of the estimated probability of default will be more valuable than the binary result of classification - credible or not credible clients. Because the real probability of default is unknown, this study presented the novel Sorting Smoothing Method to estimate the real probability of default. With the real probability of default as the response variable (Y), and the predictive probability of default as the independent variable (X), the simple linear regression result (Y = A + BX) shows that the forecasting model produced by artificial neural network has the highest coefficient of determination; its regression intercept (A) is close to zero, and regression coefficient (B) to one. Therefore, among the six data mining techniques, artificial neural network is the only one that can accurately estimate the real probability of default.\"\n",
    "\n"
   ]
  },
  {
   "cell_type": "code",
   "execution_count": 2,
   "metadata": {
    "collapsed": false
   },
   "outputs": [
    {
     "name": "stdout",
     "output_type": "stream",
     "text": [
      "<class 'pandas.core.frame.DataFrame'>\n",
      "Int64Index: 30000 entries, 1 to 30000\n",
      "Data columns (total 27 columns):\n",
      "LIMIT_BAL                     30000 non-null int64\n",
      "SEX                           30000 non-null object\n",
      "EDUCATION                     29655 non-null object\n",
      "MARRIAGE                      29946 non-null object\n",
      "AGE                           30000 non-null int64\n",
      "PAY_0_Sept                    30000 non-null int64\n",
      "PAY_2_Aug                     30000 non-null int64\n",
      "PAY_3_July                    30000 non-null int64\n",
      "PAY_4_June                    30000 non-null int64\n",
      "PAY_5_May                     30000 non-null int64\n",
      "PAY_6_April                   30000 non-null int64\n",
      "BILL_AMT1_Sept                30000 non-null int64\n",
      "BILL_AMT2_Aug                 30000 non-null int64\n",
      "BILL_AMT3_July                30000 non-null int64\n",
      "BILL_AMT4_June                30000 non-null int64\n",
      "BILL_AMT5_May                 30000 non-null int64\n",
      "BILL_AMT6_April               30000 non-null int64\n",
      "PAY_AMT1_Sept                 30000 non-null int64\n",
      "PAY_AMT2_Aug                  30000 non-null int64\n",
      "PAY_AMT3_July                 30000 non-null int64\n",
      "PAY_AMT4_June                 30000 non-null int64\n",
      "PAY_AMT5_May                  30000 non-null int64\n",
      "PAY_AMT6_April                30000 non-null int64\n",
      "default payment next month    30000 non-null int64\n",
      "AGE_range                     30000 non-null category\n",
      "LIMIT_BAL_range               30000 non-null category\n",
      "Default_Yes_No                30000 non-null object\n",
      "dtypes: category(2), int64(21), object(4)\n",
      "memory usage: 6.0+ MB\n",
      "None\n"
     ]
    }
   ],
   "source": [
    "# First row are for reference with header starting on line 2.\n",
    "# ID field is use as the index field in the data frame\n",
    "# Month specific columns renamed with month for readability\n",
    "\n",
    "#use below for web download\n",
    "#url = \"https://github.com/rlshuhart/MSDS7331_Project_1/blob/master/cc_data/default%20of%20credit%20card%20clients.xls\"\n",
    "\n",
    "cc_data = (pd.read_excel(\"./cc_data/default of credit card clients.xls\", skiprows=1, index_col='ID')\n",
    "             .rename(columns={'PAY_0':'PAY_0_Sept', #No Pay_1\n",
    "                              'PAY_2':'PAY_2_Aug', # change 'this':'to that'\n",
    "                              'PAY_3':'PAY_3_July', \n",
    "                              'PAY_4':'PAY_4_June',\n",
    "                              'PAY_5':'PAY_5_May',\n",
    "                              'PAY_6':'PAY_6_April',\n",
    "                              'BILL_AMT1':'BILL_AMT1_Sept', \n",
    "                              'BILL_AMT2':'BILL_AMT2_Aug', \n",
    "                              'BILL_AMT3':'BILL_AMT3_July', \n",
    "                              'BILL_AMT4':'BILL_AMT4_June', \n",
    "                              'BILL_AMT5':'BILL_AMT5_May',\n",
    "                              'BILL_AMT6':'BILL_AMT6_April', \n",
    "                              'PAY_AMT1':'PAY_AMT1_Sept', \n",
    "                              'PAY_AMT2':'PAY_AMT2_Aug', \n",
    "                              'PAY_AMT3':'PAY_AMT3_July', \n",
    "                              'PAY_AMT4':'PAY_AMT4_June', \n",
    "                              'PAY_AMT5':'PAY_AMT5_May',\n",
    "                              'PAY_AMT6':'PAY_AMT6_April'\n",
    "                             })\n",
    "             # Due to the many age values, creating age brackets\n",
    "             .assign(AGE_range = lambda x: pd.cut(x['AGE'],[20,30,40,50,60,70,120], 6, \n",
    "                                                 labels=['21-30','31-40','41-50','51-60','61-70','71-80+']))\n",
    "             # this creates a new variable for LIMIT_BAL_brackets\n",
    "             .assign(LIMIT_BAL_range = lambda x: pd.cut(x['LIMIT_BAL'],[0,250000,500000,750000,1e7], 4, \n",
    "                                                 labels=['0-250k','>250k-500k','>500k-750k','>750k']))\n",
    "             ## Below maps the numerical representation to categorical lable and sets object type to category\n",
    "             # Did not overwrite binary default indicator, because will need 0-1 representation\n",
    "             .assign(Default_Yes_No = lambda x: x['default payment next month'].apply({0:'No',\n",
    "                                                                                       1:'Yes'}.get))\n",
    "             .assign(SEX = lambda x: x['SEX'].apply({1:'Male', \n",
    "                                                     2:'Female'}.get))\n",
    "             .assign(EDUCATION = lambda x: x['EDUCATION'].apply({1:'Graduate School', \n",
    "                                                                 2:'University',\n",
    "                                                                 3:'High School',\n",
    "                                                                 4:'Others'}.get))\n",
    "             .assign(MARRIAGE = lambda x: x['MARRIAGE'].apply({1:'Married', \n",
    "                                                               2:'Single',\n",
    "                                                               3:'Others'}.get))\n",
    "                                                        \n",
    "           )\n",
    "\n",
    "print(cc_data.info())\n",
    "# http://stackoverflow.com/questions/16575868/efficiently-creating-additional-columns-in-a-pandas-dataframe-using-map\n",
    "# http://tomaugspurger.github.io/method-chaining.html\n",
    "# http://pandas.pydata.org/pandas-docs/version/0.17.0/generated/pandas.Series.apply.html"
   ]
  },
  {
   "cell_type": "markdown",
   "metadata": {},
   "source": [
    "### First Pass Verification of Data Quality"
   ]
  },
  {
   "cell_type": "code",
   "execution_count": 3,
   "metadata": {
    "collapsed": false,
    "scrolled": false
   },
   "outputs": [
    {
     "name": "stdout",
     "output_type": "stream",
     "text": [
      "SEX\n",
      "['Female', 'Male']\n",
      "\n",
      "EDUCATION\n",
      "['University' 'Graduate School' 'High School' None 'Others']\n",
      "\n",
      "MARRIAGE\n",
      "['Married' 'Single' 'Others' None]\n",
      "\n",
      "default payment next month\n",
      "[0, 1]\n",
      "\n",
      "PAY_0_Sept\n",
      "[-2, -1, 0, 1, 2, 3, 4, 5, 6, 7, 8]\n",
      "\n",
      "PAY_2_Aug\n",
      "[-2, -1, 0, 1, 2, 3, 4, 5, 6, 7, 8]\n",
      "\n",
      "PAY_3_July\n",
      "[-2, -1, 0, 1, 2, 3, 4, 5, 6, 7, 8]\n",
      "\n",
      "PAY_4_June\n",
      "[-2, -1, 0, 1, 2, 3, 4, 5, 6, 7, 8]\n",
      "\n",
      "PAY_5_May\n",
      "[-2, -1, 0, 2, 3, 4, 5, 6, 7, 8]\n",
      "\n",
      "PAY_6_April\n",
      "[-2, -1, 0, 2, 3, 4, 5, 6, 7, 8]\n",
      "\n",
      "AGE_range\n",
      "['21-30', '31-40', '41-50', '51-60', '61-70', '71-80+']\n",
      "\n",
      "LIMIT_BAL_range\n",
      "['0-250k', '>250k-500k', '>500k-750k', '>750k']\n",
      "\n"
     ]
    }
   ],
   "source": [
    "# look through categorical variables that have values not defined\n",
    "cat_vars = ['SEX','EDUCATION','MARRIAGE','default payment next month', 'PAY_0_Sept',\n",
    "            'PAY_2_Aug', 'PAY_3_July', 'PAY_4_June', 'PAY_5_May', 'PAY_6_April', 'AGE_range', 'LIMIT_BAL_range']\n",
    "\n",
    "for i in range(len(cat_vars)):\n",
    "    print(cat_vars[i])\n",
    "    try:\n",
    "        print(sorted(cc_data[cat_vars[i]].unique()))\n",
    "    except TypeError: # work around to unsortable 'None'\n",
    "        print(cc_data[cat_vars[i]].unique())\n",
    "    print()"
   ]
  },
  {
   "cell_type": "markdown",
   "metadata": {},
   "source": [
    "#### First Pass Observations\n",
    "It appears EDUCATION, MARRIAGE, and PAY_0_Sept-PAY_6_April (history of past payment) have values not defined by the documentation. EDUCATION should only have values 1-4 representing graduate school(1), university(2), high school(3), and others(4), however, has 0, 5, and 6. The undefinded values make up only about 1% of the observations will be imputed to the 'others' category, 4. MARRIAGE documentation states 3 categories, married(1), single(2), and others(3), yet .2% of values are defined as 0. The value 0 for MARRIAGE will be imputed to the 'others' catgory of 3. According to the documentation, PAY_0_Sept-PAY_6_April, should have values -1 or 1-9, however, the data is different and the values range from -2 to 9. Following the logic, -2 might be two months early, -1 one month early, 0 on time, 1 one month late, and so on up to 9 where 9 represents 9 months late or more. The values -2 and 0 make up significant proportion of the data and will be kept. <br>\n",
    "\n",
    "The next step will implement the imputatin as previously described."
   ]
  },
  {
   "cell_type": "code",
   "execution_count": 4,
   "metadata": {
    "collapsed": false,
    "scrolled": false
   },
   "outputs": [
    {
     "name": "stdout",
     "output_type": "stream",
     "text": [
      "SEX\n",
      "['Female', 'Male']\n",
      "\n",
      "EDUCATION\n",
      "['Graduate School', 'High School', 'Others', 'University']\n",
      "\n",
      "MARRIAGE\n",
      "['Married', 'Others', 'Single']\n",
      "\n",
      "default payment next month\n",
      "[0, 1]\n",
      "\n",
      "PAY_0_Sept\n",
      "[-2, -1, 0, 1, 2, 3, 4, 5, 6, 7, 8]\n",
      "\n",
      "PAY_2_Aug\n",
      "[-2, -1, 0, 1, 2, 3, 4, 5, 6, 7, 8]\n",
      "\n",
      "PAY_3_July\n",
      "[-2, -1, 0, 1, 2, 3, 4, 5, 6, 7, 8]\n",
      "\n",
      "PAY_4_June\n",
      "[-2, -1, 0, 1, 2, 3, 4, 5, 6, 7, 8]\n",
      "\n",
      "PAY_5_May\n",
      "[-2, -1, 0, 2, 3, 4, 5, 6, 7, 8]\n",
      "\n",
      "PAY_6_April\n",
      "[-2, -1, 0, 2, 3, 4, 5, 6, 7, 8]\n",
      "\n",
      "AGE_range\n",
      "['21-30', '31-40', '41-50', '51-60', '61-70', '71-80+']\n",
      "\n",
      "LIMIT_BAL_range\n",
      "['0-250k', '>250k-500k', '>500k-750k', '>750k']\n",
      "\n",
      "<class 'pandas.core.frame.DataFrame'>\n",
      "Int64Index: 30000 entries, 1 to 30000\n",
      "Data columns (total 27 columns):\n",
      "LIMIT_BAL                     30000 non-null int64\n",
      "SEX                           30000 non-null object\n",
      "EDUCATION                     30000 non-null object\n",
      "MARRIAGE                      30000 non-null object\n",
      "AGE                           30000 non-null int64\n",
      "PAY_0_Sept                    30000 non-null int64\n",
      "PAY_2_Aug                     30000 non-null int64\n",
      "PAY_3_July                    30000 non-null int64\n",
      "PAY_4_June                    30000 non-null int64\n",
      "PAY_5_May                     30000 non-null int64\n",
      "PAY_6_April                   30000 non-null int64\n",
      "BILL_AMT1_Sept                30000 non-null int64\n",
      "BILL_AMT2_Aug                 30000 non-null int64\n",
      "BILL_AMT3_July                30000 non-null int64\n",
      "BILL_AMT4_June                30000 non-null int64\n",
      "BILL_AMT5_May                 30000 non-null int64\n",
      "BILL_AMT6_April               30000 non-null int64\n",
      "PAY_AMT1_Sept                 30000 non-null int64\n",
      "PAY_AMT2_Aug                  30000 non-null int64\n",
      "PAY_AMT3_July                 30000 non-null int64\n",
      "PAY_AMT4_June                 30000 non-null int64\n",
      "PAY_AMT5_May                  30000 non-null int64\n",
      "PAY_AMT6_April                30000 non-null int64\n",
      "default payment next month    30000 non-null int64\n",
      "AGE_range                     30000 non-null category\n",
      "LIMIT_BAL_range               30000 non-null category\n",
      "Default_Yes_No                30000 non-null object\n",
      "dtypes: category(2), int64(21), object(4)\n",
      "memory usage: 6.0+ MB\n",
      "None\n"
     ]
    }
   ],
   "source": [
    "# Impute undefined values. \"~\" symbol means to invert. Or for the below \"not in\"\n",
    "cc_data.loc[(~cc_data['EDUCATION'].isin(['Graduate School','University','High School','Others'])), 'EDUCATION'] = 'Others'\n",
    "cc_data.loc[(~cc_data['MARRIAGE'].isin(['Married','Single','Others'])), 'MARRIAGE'] = 'Others' \n",
    "\n",
    "# recheck\n",
    "for i in range(len(cat_vars)):\n",
    "    print(cat_vars[i])\n",
    "    print(sorted(cc_data[cat_vars[i]].unique()))\n",
    "    print()\n",
    "    \n",
    "print(cc_data.info())"
   ]
  },
  {
   "cell_type": "markdown",
   "metadata": {},
   "source": [
    "<B><I>Categorical data appears to be in better order now."
   ]
  },
  {
   "cell_type": "markdown",
   "metadata": {},
   "source": [
    "<hr>\n",
    "### Variable Profile\n",
    "The next cell uses a module called \"pandas_profiling\" created by Jos Polfliet. An overview is given at the top of the output, proceeded by the variables. There is a toggle link to expanded the details for each variable. Output is also sent to an HTML file viewable separately for convenience.<br>\n",
    "\n",
    "#### Variable Notes:\n",
    "AGE - This variable is right skewed with a range from age 21 to 79. The average age is 35 with the median at 34. This variable is clean of outliers.\n",
    "\n",
    "Bill Amount (BILL_AMT1_Sept - BILL_AMT6_April) - The amount of the credit card bill in Taiwan Dollar for the months April 2005 to September2015. The bill amounts across the months are highly correlated.\n",
    "\n",
    "Default_Yes_No - This variable is the string version of 'default payment next month' translating 1 to 'Yes' and 0 to 'No.'\n",
    "\n",
    "EDUCATION - Undergraduate degree (University) is the most common education level at 46.8%. The majority of observations (82.1%) are from individuals with an undergraduate degree (University) or better.\n",
    "\n",
    "LIMIT_BAL - Ranges from 10k to 1mm with a median of 140k. The values are right skewed, however, no unreasonable looking outliers. The total credit limit extended to the sample is over five billion.\n",
    "\n",
    "LIMIT_BAL_range - For analysis, LIMIT_BAL was categorized into 4 parts '0-250k', '>250k-500k', '>500k-750k', '>750k'\n",
    "\n",
    "MARRIAGE - Single makes up the largest group at 53.2%, then Married at 45.5%, and lastly an Others group of 1.3%\n",
    "\n",
    "Pay History (PAY_0_Sept - PAY_6_April) - The 3rd quartile for each month is zero meaning, most observations are zero or less. One month delays seem to be far more absent in months PAY_2_Aug to PAY_6_April, with PAY_5_May, PAY_6_April not having any at all and seems rather odd. Only PAY_0_Sept of 1 seems to fit as one would expect. As mentioned previously, the provided documentation does not explain the values of -2 and 0, but it can be inferred as not negative events. To resolve these problems, one solution would be to create a variable called **has_Pay_Delay** history and consolidate it to a binary TRUE/FALSE variable and, thereby, removing the month in which it occurred. \n",
    "\n",
    "Pay Amount (PAY_AMT1_Sept - PAY_AMT6_April) - Is the amount of the payment toward the credit card that month. About a fifth of the observations are zeros each month.\n",
    "\n",
    "SEX - Females are the majority gender at 60.4%.\n",
    "\n",
    "AGE_range - Variable was created by bracketing the ages from the AGE variable by 10 years ('21-30', '31-40', '41-50', '51-60', '61-70', '71-80+'). Seventy-two percent of the observations fall in to the first two categories \"21-30\" and \"31-40.\"\n",
    "\n",
    "default payment next month - This is a binary variable of 0 or 1. 22.1% of the obeservations were considered in default in October 2005 and this is the sample average.\n",
    "\n",
    "\n",
    "#### Description of the Data per Offical Documentation\n",
    "**LIMIT_BAL** (Ratio): Amount of the given credit (NT dollar): it includes both the individual consumer credit and his/her family (supplementary) credit.<br>\n",
    "**SEX** (Nominal): Gender (1 = male; 2 = female)<br>\n",
    "**EDUCATION** (Nominal): Education (1 = graduate school; 2 = university; 3 = high school; 4 = others)<br>\n",
    "**MARRIAGE** (Nominal): Marital status (1 = married; 2 = single; 3 = others)<BR>\n",
    "**AGE** (Interval): Age (year)<BR>\n",
    "**PAY_0_Sept - PAY_6_April** (Ordinal): History of past payment. The past monthly payment records (from April to September, \n",
    "2005). The measurement scale for the repayment status is: <BR>\n",
    "&nbsp;&nbsp;&nbsp;&nbsp;&nbsp;&nbsp;-1 = pay duly<BR>\n",
    "&nbsp;&nbsp;&nbsp;&nbsp;&nbsp;&nbsp;1 - 8 = payment delay for one to eight months <BR>\n",
    "&nbsp;&nbsp;&nbsp;&nbsp;&nbsp;&nbsp;9 = payment delay for nine months and above<BR>\n",
    "**BILL_AMT1_Sept - BILL_AMT6_April** (Ratio): Amount of bill statement (NT dollar) <BR>\n",
    "**PAY_AMT1_Sept - PAY_AMT6_April** (Ratio): Amount of previous payment (NT dollar) <BR>\n",
    "**default payment next month** (Nominal): default payment (Yes = 1, No = 0)"
   ]
  },
  {
   "cell_type": "code",
   "execution_count": null,
   "metadata": {
    "collapsed": false,
    "scrolled": false
   },
   "outputs": [],
   "source": [
    "# Survey of all variables - Open\n",
    "profile = pandas_profiling.ProfileReport(cc_data)\n",
    "profile.to_file(outputfile=\"./ProfileReport.html\")\n",
    "profile"
   ]
  },
  {
   "cell_type": "code",
   "execution_count": 5,
   "metadata": {
    "collapsed": false,
    "scrolled": false
   },
   "outputs": [
    {
     "name": "stdout",
     "output_type": "stream",
     "text": [
      "      SEX  SEX_Count  SEX_Prop\n",
      "0  Female      18112    60.373\n",
      "1    Male      11888    39.627\n",
      "0  _Total      30000   100.000\n",
      "\n",
      "         EDUCATION  EDUCATION_Count  EDUCATION_Prop\n",
      "0  Graduate School            10585          35.283\n",
      "1      High School             4917          16.390\n",
      "2           Others              468           1.560\n",
      "3       University            14030          46.767\n",
      "0           _Total            30000         100.000\n",
      "\n",
      "  MARRIAGE  MARRIAGE_Count  MARRIAGE_Prop\n",
      "0  Married           13659         45.530\n",
      "1   Others             377          1.257\n",
      "2   Single           15964         53.213\n",
      "0   _Total           30000        100.000\n",
      "\n",
      "  default payment next month  default payment next month_Count  \\\n",
      "0                          0                             23364   \n",
      "1                          1                              6636   \n",
      "0                     _Total                             30000   \n",
      "\n",
      "   default payment next month_Prop  \n",
      "0                           77.880  \n",
      "1                           22.120  \n",
      "0                          100.000  \n",
      "\n",
      "   PAY_0_Sept  PAY_0_Sept_Count  PAY_0_Sept_Prop\n",
      "0          -2              2759            9.197\n",
      "1          -1              5686           18.953\n",
      "2           0             14737           49.123\n",
      "3           1              3688           12.293\n",
      "4           2              2667            8.890\n",
      "5           3               322            1.073\n",
      "6           4                76            0.253\n",
      "7           5                26            0.087\n",
      "8           6                11            0.037\n",
      "9           7                 9            0.030\n",
      "10          8                19            0.063\n",
      "0      _Total             30000          100.000\n",
      "\n",
      "   PAY_2_Aug  PAY_2_Aug_Count  PAY_2_Aug_Prop\n",
      "0         -2             3782          12.607\n",
      "1         -1             6050          20.167\n",
      "2          0            15730          52.433\n",
      "3          1               28           0.093\n",
      "4          2             3927          13.090\n",
      "5          3              326           1.087\n",
      "6          4               99           0.330\n",
      "7          5               25           0.083\n",
      "8          6               12           0.040\n",
      "9          7               20           0.067\n",
      "10         8                1           0.003\n",
      "0     _Total            30000         100.000\n",
      "\n",
      "   PAY_3_July  PAY_3_July_Count  PAY_3_July_Prop\n",
      "0          -2              4085           13.617\n",
      "1          -1              5938           19.793\n",
      "2           0             15764           52.547\n",
      "3           1                 4            0.013\n",
      "4           2              3819           12.730\n",
      "5           3               240            0.800\n",
      "6           4                76            0.253\n",
      "7           5                21            0.070\n",
      "8           6                23            0.077\n",
      "9           7                27            0.090\n",
      "10          8                 3            0.010\n",
      "0      _Total             30000          100.000\n",
      "\n",
      "   PAY_4_June  PAY_4_June_Count  PAY_4_June_Prop\n",
      "0          -2              4348           14.493\n",
      "1          -1              5687           18.957\n",
      "2           0             16455           54.850\n",
      "3           1                 2            0.007\n",
      "4           2              3159           10.530\n",
      "5           3               180            0.600\n",
      "6           4                69            0.230\n",
      "7           5                35            0.117\n",
      "8           6                 5            0.017\n",
      "9           7                58            0.193\n",
      "10          8                 2            0.007\n",
      "0      _Total             30000          100.000\n",
      "\n",
      "  PAY_5_May  PAY_5_May_Count  PAY_5_May_Prop\n",
      "0        -2             4546          15.153\n",
      "1        -1             5539          18.463\n",
      "2         0            16947          56.490\n",
      "3         2             2626           8.753\n",
      "4         3              178           0.593\n",
      "5         4               84           0.280\n",
      "6         5               17           0.057\n",
      "7         6                4           0.013\n",
      "8         7               58           0.193\n",
      "9         8                1           0.003\n",
      "0    _Total            30000         100.000\n",
      "\n",
      "  PAY_6_April  PAY_6_April_Count  PAY_6_April_Prop\n",
      "0          -2               4895            16.317\n",
      "1          -1               5740            19.133\n",
      "2           0              16286            54.287\n",
      "3           2               2766             9.220\n",
      "4           3                184             0.613\n",
      "5           4                 49             0.163\n",
      "6           5                 13             0.043\n",
      "7           6                 19             0.063\n",
      "8           7                 46             0.153\n",
      "9           8                  2             0.007\n",
      "0      _Total              30000           100.000\n",
      "\n",
      "  AGE_range  AGE_range_Count  AGE_range_Prop\n",
      "0     21-30            11013          36.710\n",
      "1     31-40            10713          35.710\n",
      "2     41-50             6005          20.017\n",
      "3     51-60             1997           6.657\n",
      "4     61-70              257           0.857\n",
      "5    71-80+               15           0.050\n",
      "0       NaN            30000         100.000\n",
      "\n",
      "  LIMIT_BAL_range  LIMIT_BAL_range_Count  LIMIT_BAL_range_Prop\n",
      "0          0-250k                  23283                77.610\n",
      "1      >250k-500k                   6511                21.703\n",
      "2      >500k-750k                    200                 0.667\n",
      "3           >750k                      6                 0.020\n",
      "0             NaN                  30000               100.000\n",
      "\n"
     ]
    }
   ],
   "source": [
    "# Function to show counts and proportion of a given field\n",
    "def category_proportion(df, series_name):\n",
    "    df_counts = pd.DataFrame({series_name + '_Count' : df.groupby(series_name)[series_name].size(), \n",
    "                  series_name+'_Prop' : df.groupby(series_name)[series_name].size().apply(\n",
    "                                        lambda x: float(x) / df.groupby(series_name).size().sum()*100)}).reset_index()\n",
    "    df_tots = pd.DataFrame({series_name:['_Total'],\n",
    "              series_name+'_Count':df_counts[series_name + '_Count'].sum(),\n",
    "              series_name+'_Prop':df_counts[series_name+'_Prop'].sum()})\n",
    "    return pd.concat([df_counts,df_tots])\n",
    "\n",
    "for i in range(len(cat_vars)):\n",
    "    print(category_proportion(cc_data, cat_vars[i]))\n",
    "    print()"
   ]
  },
  {
   "cell_type": "markdown",
   "metadata": {},
   "source": [
    "<hr>\n",
    "## Visualization of Summary Statistics"
   ]
  },
  {
   "cell_type": "code",
   "execution_count": 6,
   "metadata": {
    "collapsed": false
   },
   "outputs": [],
   "source": [
    "%matplotlib inline"
   ]
  },
  {
   "cell_type": "markdown",
   "metadata": {},
   "source": [
    "<hr>\n",
    "### AGE\n",
    "#### Counts"
   ]
  },
  {
   "cell_type": "code",
   "execution_count": null,
   "metadata": {
    "collapsed": false
   },
   "outputs": [],
   "source": [
    "sns.countplot(cc_data[cc_data['default payment next month']==1]['AGE_range'])"
   ]
  },
  {
   "cell_type": "markdown",
   "metadata": {},
   "source": [
    "#### Age Group by Gender\n",
    "Females out number men in most age brackets. Almost twice as many females than males in the 21-30 bracket. There appears to be no outliers in age."
   ]
  },
  {
   "cell_type": "code",
   "execution_count": null,
   "metadata": {
    "collapsed": false
   },
   "outputs": [],
   "source": [
    "# Age Group by Sex\n",
    "sns.countplot(data=cc_data, x='AGE_range', hue='SEX')"
   ]
  },
  {
   "cell_type": "markdown",
   "metadata": {},
   "source": [
    "<hr>\n",
    "#### Age Distribution by Gender\n",
    "The age distribution of gender is similar. Males median age is slightly higher."
   ]
  },
  {
   "cell_type": "code",
   "execution_count": null,
   "metadata": {
    "collapsed": false
   },
   "outputs": [],
   "source": [
    "sns.violinplot(date=cc_data, x=cc_data['SEX'], y=cc_data['AGE'],inner=\"quart\")"
   ]
  },
  {
   "cell_type": "markdown",
   "metadata": {},
   "source": [
    "<hr>\n",
    "#### Age by Marriage and SEX\n",
    "The distribution of age across marriage is more centered than the single group. As one would expect, singleness preceeds marriage and occurs later in life. The 'Others' group is almost nearly normal"
   ]
  },
  {
   "cell_type": "code",
   "execution_count": null,
   "metadata": {
    "collapsed": false
   },
   "outputs": [],
   "source": [
    "sns.violinplot(x=cc_data['MARRIAGE'], y=cc_data['AGE'], hue=cc_data['SEX'], split=True, inner=\"quart\")"
   ]
  },
  {
   "cell_type": "markdown",
   "metadata": {},
   "source": [
    "<hr>\n",
    "#### Age by Education and Gender\n",
    "Post high school graduation age appears to be less than high school educated and might be due to taking longer in life to meet certain requirements for a credit card. High School appears to be near bimodal distributions."
   ]
  },
  {
   "cell_type": "code",
   "execution_count": null,
   "metadata": {
    "collapsed": false,
    "scrolled": true
   },
   "outputs": [],
   "source": [
    "sns.violinplot(x=cc_data['EDUCATION'], y=cc_data['AGE'], inner=\"quart\")"
   ]
  },
  {
   "cell_type": "markdown",
   "metadata": {},
   "source": [
    "<hr>\n",
    "### Education \n",
    "##### Counts\n",
    "High School and Others make up a minority of the observations"
   ]
  },
  {
   "cell_type": "code",
   "execution_count": null,
   "metadata": {
    "collapsed": false
   },
   "outputs": [],
   "source": [
    "# sns.countplot(data=cc_data, x='EDUCATION')"
   ]
  },
  {
   "cell_type": "markdown",
   "metadata": {},
   "source": [
    "### Limit Balance\n",
    "#### Limit Balance by Education\n",
    "High School has the lowest credit limit in general, whereas, the highest educated Graduate group has the largest median credit limit. Notably, Graduate School has a multimodal distribution with 4 peaks."
   ]
  },
  {
   "cell_type": "code",
   "execution_count": null,
   "metadata": {
    "collapsed": false
   },
   "outputs": [],
   "source": [
    "sns.violinplot(data=cc_data, x=\"EDUCATION\", y='LIMIT_BAL', inner=\"quart\")"
   ]
  },
  {
   "cell_type": "markdown",
   "metadata": {},
   "source": [
    "<HR>\n",
    "#### Limit Balance by AGE\n",
    "There is a positive relation ship of AGE to Credit Limit"
   ]
  },
  {
   "cell_type": "code",
   "execution_count": null,
   "metadata": {
    "collapsed": false
   },
   "outputs": [],
   "source": [
    "to_map = cc_data.groupby(['LIMIT_BAL','AGE']).size().unstack()\n",
    "f = plt.figure(figsize=(14, 14))\n",
    "f = sns.heatmap(to_map, cmap=sns.light_palette(\"green\", as_cmap=True))\n",
    "f.invert_yaxis()"
   ]
  },
  {
   "cell_type": "markdown",
   "metadata": {},
   "source": [
    "### Distribution of Defaults"
   ]
  },
  {
   "cell_type": "markdown",
   "metadata": {},
   "source": [
    "#### Average Default Rate of Sample"
   ]
  },
  {
   "cell_type": "code",
   "execution_count": null,
   "metadata": {
    "collapsed": false
   },
   "outputs": [],
   "source": [
    "avg_default_rate = cc_data['default payment next month'].sum()/cc_data['default payment next month'].count()*100\n",
    "print(\"The average default rate is %.1f%%\" % avg_default_rate)"
   ]
  },
  {
   "cell_type": "markdown",
   "metadata": {},
   "source": [
    "<hr>\n",
    "#### Distibution of Default by Credit Limit\n",
    "Those with lower credit limits are more likely to default."
   ]
  },
  {
   "cell_type": "code",
   "execution_count": null,
   "metadata": {
    "collapsed": false,
    "scrolled": false
   },
   "outputs": [],
   "source": [
    "sns.violinplot(data=cc_data, x='default payment next month',y='LIMIT_BAL', inner=\"quart\")"
   ]
  },
  {
   "cell_type": "markdown",
   "metadata": {},
   "source": [
    "<hr>\n",
    "#### Distribution of Defaults by Age and Sex Relative to the Sample Average\n",
    "The age group of 71-80+ has the worst default rate regardless of gender and is 11.2 percentage points higher than the sample average. Females in the 31-40 age bracket are below average."
   ]
  },
  {
   "cell_type": "code",
   "execution_count": null,
   "metadata": {
    "collapsed": false,
    "scrolled": false
   },
   "outputs": [],
   "source": [
    "def heat_map(to_map):\n",
    "    # Count of distribution\n",
    "    df = cc_data.groupby(to_map)\n",
    "    \n",
    "    print(\"Frequency Table\")\n",
    "    print(df['default payment next month'].size().unstack().reset_index().sort_values(by=to_map[0], ascending=False))\n",
    "\n",
    "    # Proportion of default\n",
    "    x_count = df['default payment next month'].count().unstack()\n",
    "    x_sum = df['default payment next month'].sum().unstack()\n",
    "\n",
    "    # Relative proportion of default to the total average\n",
    "    plt.figure(figsize=(10, 8))\n",
    "    plt.title('Difference from Sample Average [%]', fontsize=16)\n",
    "    p = sns.heatmap((x_sum/x_count)*100 - avg_default_rate, annot=True, fmt=\".1f\", annot_kws={\"size\": 15})\n",
    "    p.invert_yaxis()\n",
    "    \n",
    "heat_map(['AGE_range','SEX'])"
   ]
  },
  {
   "cell_type": "markdown",
   "metadata": {},
   "source": [
    "<hr>\n",
    "#### Distribution of Defaults by Age and Education Relative to Sample Average\n",
    "The eldest High School goup are the worst offenders of default. Overall the Others group does better on average, however, this group is not a frequent. Age 21-50 of Graduate School educated manage their credit card better with below average default. A negative relationship is present in the Graduate School as age increases."
   ]
  },
  {
   "cell_type": "code",
   "execution_count": null,
   "metadata": {
    "collapsed": false,
    "scrolled": false
   },
   "outputs": [],
   "source": [
    "heat_map(['AGE_range','EDUCATION'])"
   ]
  },
  {
   "cell_type": "markdown",
   "metadata": {},
   "source": [
    "<hr>\n",
    "#### Distribution of Defaults by Age and Marriage\n",
    "Those married tend to default more than average, whereas, single do slightly better. One could hypothesize financial pressure found commonly in marriage, such as children, could impact ability to pay."
   ]
  },
  {
   "cell_type": "code",
   "execution_count": null,
   "metadata": {
    "collapsed": false
   },
   "outputs": [],
   "source": [
    "heat_map(['AGE_range','MARRIAGE'])"
   ]
  },
  {
   "cell_type": "markdown",
   "metadata": {},
   "source": [
    "<hr>\n",
    "#### Distribution of Defaults by Sex and Marriage\n",
    "Men in Others category has the worse default rate. Like seen previously, men seem to have a worse default record in general. Single women have the best record."
   ]
  },
  {
   "cell_type": "code",
   "execution_count": null,
   "metadata": {
    "collapsed": false
   },
   "outputs": [],
   "source": [
    "heat_map(['SEX','MARRIAGE'])"
   ]
  },
  {
   "cell_type": "markdown",
   "metadata": {},
   "source": [
    "<hr>\n",
    "#### Distribution of Defaults by Sex and Education\n",
    "The Others education category default rate is extremely good, althogh there maybe some concern for the limited observations. Graduate School category show to be the better group. Gender and Education have appear to have significant association to default."
   ]
  },
  {
   "cell_type": "code",
   "execution_count": null,
   "metadata": {
    "collapsed": false
   },
   "outputs": [],
   "source": [
    "heat_map(['SEX','EDUCATION'])"
   ]
  },
  {
   "cell_type": "markdown",
   "metadata": {},
   "source": [
    "<hr>\n",
    "#### Distribution of Defaults by Marriage and Education\n",
    "Both the Other categories in MARRIAGE and EDUCATION stand out as the best, but it is important to note there are only 8 observations at this intersection.  University is consistently above the sample average at all levels of MARRIAGE"
   ]
  },
  {
   "cell_type": "code",
   "execution_count": null,
   "metadata": {
    "collapsed": false
   },
   "outputs": [],
   "source": [
    "heat_map(['MARRIAGE','EDUCATION'])"
   ]
  },
  {
   "cell_type": "markdown",
   "metadata": {},
   "source": [
    "<hr>\n",
    "#### Distribution of Defaults by Age, Sex, Marriage, Education"
   ]
  },
  {
   "cell_type": "code",
   "execution_count": null,
   "metadata": {
    "collapsed": false
   },
   "outputs": [],
   "source": [
    "heat_map(['AGE_range','SEX','MARRIAGE','EDUCATION'])"
   ]
  },
  {
   "cell_type": "markdown",
   "metadata": {},
   "source": [
    "<hr>\n",
    "## Distribution of Defaults by Payment Delay Pattern"
   ]
  },
  {
   "cell_type": "code",
   "execution_count": null,
   "metadata": {
    "collapsed": false,
    "scrolled": false
   },
   "outputs": [],
   "source": [
    "pay_delayed_default = cc_data.groupby(['PAY_0_Sept','PAY_2_Aug', 'PAY_3_July', 'PAY_4_June', 'PAY_5_May', 'PAY_6_April'])\n",
    "pay_delayed_default_pattern= (pay_delayed_default['default payment next month']\n",
    "                              .size()\n",
    "                              .reset_index()\n",
    "                              .rename(columns={0:'Count'})\n",
    "                              )\n",
    "pay_delayed_default_pattern[:25]"
   ]
  },
  {
   "cell_type": "code",
   "execution_count": null,
   "metadata": {
    "collapsed": false
   },
   "outputs": [],
   "source": [
    "x_count = pay_delayed_default['default payment next month'].count().reset_index()\n",
    "x_sum = pay_delayed_default['default payment next month'].sum().reset_index()\n",
    "prop_default = ((x_sum['default payment next month']/x_count['default payment next month'])*100)\n",
    "pay_delayed_default_pattern['Default_Proportion'] = prop_default"
   ]
  },
  {
   "cell_type": "code",
   "execution_count": null,
   "metadata": {
    "collapsed": false
   },
   "outputs": [],
   "source": [
    "# highlight patterns above the average default rate\n",
    "\n",
    "# http://pandas.pydata.org/pandas-docs/stable/style.html\n",
    "def color_above_average_red(val):\n",
    "    \"\"\"\n",
    "    Takes a scalar and returns a string with\n",
    "    the css property `'color: red'` for negative\n",
    "    strings, black otherwise.\n",
    "    \"\"\"\n",
    "    color = 'red' if val > avg_default_rate else 'green'\n",
    "    return 'color: %s' % color\n",
    "\n",
    "cm = sns.light_palette(\"green\", as_cmap=True)\n",
    "\n",
    "# Top 20 payment delay patterns sorted by default frequency\n",
    "(pay_delayed_default_pattern[pay_delayed_default_pattern['Count'] >50]\n",
    "     .sort_values(by='Default_Proportion', ascending=False)[:50]\n",
    "     #.style.background_gradient(cmap=cm, subset=['Default_Proportion'])\n",
    "     .style.applymap(color_above_average_red, subset=['Default_Proportion'])\n",
    ")"
   ]
  },
  {
   "cell_type": "markdown",
   "metadata": {},
   "source": [
    "## Logistic Survey of Payment History for September\n"
   ]
  },
  {
   "cell_type": "code",
   "execution_count": null,
   "metadata": {
    "collapsed": false,
    "scrolled": false
   },
   "outputs": [],
   "source": [
    "#Logistic line\n",
    "pay_hist = ['PAY_0_Sept','PAY_2_Aug', 'PAY_3_July', 'PAY_4_June', 'PAY_5_May', 'PAY_6_April']\n",
    "\n",
    "for i in range(len(pay_hist)):\n",
    "    sns.lmplot(data=cc_data, x=pay_hist[i], y='default payment next month', x_jitter=.1, y_jitter=.02, logistic=True)\n",
    "    \n",
    "#sns.lmplot(data=cc_data, x='PAY_0_Sept', y='default payment next month', x_jitter=.1, y_jitter=.02, col='MARRIAGE', logistic=True)\n"
   ]
  },
  {
   "cell_type": "markdown",
   "metadata": {},
   "source": [
    "## Feature Creation Ideas:\n",
    "* Ratio of Pay Amount to Bill Amount\n",
    "* Ratio of Bill Amount to LIMIT_BAL\n",
    "* Transformation of data - scaling\n",
    "* has_Pay_Delay - binary indicator of history of delayed payments"
   ]
  },
  {
   "cell_type": "markdown",
   "metadata": {
    "collapsed": true
   },
   "source": [
    "Sources\n",
    " - https://stanford.edu/~mwaskom/software/seaborn/index.html\n",
    " - http://pandas.pydata.org/pandas-docs/stable/index.html\n",
    " - https://www.wakari.io/sharing/bundle/ijstokes/pyvis-1h?has_login=False\n",
    " - https://github.com/mwaskom/seaborn/issues/430\n"
   ]
  },
  {
   "cell_type": "markdown",
   "metadata": {},
   "source": [
    "# Post submission\n",
    "## Output processed file for model selection"
   ]
  },
  {
   "cell_type": "code",
   "execution_count": 7,
   "metadata": {
    "collapsed": false
   },
   "outputs": [
    {
     "name": "stdout",
     "output_type": "stream",
     "text": [
      "<class 'pandas.core.frame.DataFrame'>\n",
      "Int64Index: 30000 entries, 1 to 30000\n",
      "Data columns (total 26 columns):\n",
      "EDUCATION                     30000 non-null int64\n",
      "PAY_0_Sept                    30000 non-null int64\n",
      "PAY_2_Aug                     30000 non-null int64\n",
      "PAY_3_July                    30000 non-null int64\n",
      "PAY_4_June                    30000 non-null int64\n",
      "PAY_5_May                     30000 non-null int64\n",
      "PAY_6_April                   30000 non-null int64\n",
      "BILL_AMT1_Sept                30000 non-null int64\n",
      "BILL_AMT2_Aug                 30000 non-null int64\n",
      "BILL_AMT3_July                30000 non-null int64\n",
      "BILL_AMT4_June                30000 non-null int64\n",
      "BILL_AMT5_May                 30000 non-null int64\n",
      "BILL_AMT6_April               30000 non-null int64\n",
      "PAY_AMT1_Sept                 30000 non-null int64\n",
      "PAY_AMT2_Aug                  30000 non-null int64\n",
      "PAY_AMT3_July                 30000 non-null int64\n",
      "PAY_AMT4_June                 30000 non-null int64\n",
      "PAY_AMT5_May                  30000 non-null int64\n",
      "PAY_AMT6_April                30000 non-null int64\n",
      "default payment next month    30000 non-null int64\n",
      "AGE_range                     30000 non-null category\n",
      "LIMIT_BAL_range               30000 non-null category\n",
      "isMale                        30000 non-null bool\n",
      "Marriage_Married              30000 non-null float64\n",
      "Marriage_Others               30000 non-null float64\n",
      "Marriage_Single               30000 non-null float64\n",
      "dtypes: bool(1), category(2), float64(3), int64(20)\n",
      "memory usage: 5.6 MB\n",
      "None\n"
     ]
    }
   ],
   "source": [
    "# makeing copy of data to retain original input for now. \n",
    "# Have to add .copy() or any change will reflect in the original too.\n",
    "cc_data_processed = cc_data.copy()\n",
    "\n",
    "cats = ['SEX', 'EDUCATION', 'MARRIAGE','AGE_range', 'LIMIT_BAL_range']\n",
    "\n",
    "# SEX convert to isMale\n",
    "cc_data_processed['isMale'] = cc_data['SEX']=='Male'\n",
    "\n",
    "# Two options for Education: \n",
    "# If treating ordinal then keep single columnn but label in numerical order\n",
    "# if nominal then create dummy variables.\n",
    "# Trying ordinal first with 'Others' as the highest. Previous exploration\n",
    "# showed this group have better rates of default which continued the trend\n",
    "# of more education means less likely to default:\n",
    "cc_data_processed['EDUCATION'] = cc_data['EDUCATION'].apply({'High School':0,\n",
    "                                                             'University':1,\n",
    "                                                             'Graduate School':2, \n",
    "                                                             'Others':3}.get)\n",
    "\n",
    "# Marriage is nominal category therefore converting to dummies\n",
    "\n",
    "cc_data_processed = pd.concat((cc_data_processed, \n",
    "                               pd.get_dummies(cc_data['MARRIAGE'], prefix='Marriage')), \n",
    "                               axis=1)\n",
    "\n",
    "# Age range is ordinal category:\n",
    "cc_data_processed['AGE_range'] = cc_data['AGE_range'].apply({'21-30':0,\n",
    "                                                             '31-40':1,\n",
    "                                                             '41-50':2, \n",
    "                                                             '51-60':3,\n",
    "                                                             '61-70':4,\n",
    "                                                             '71-80+':5}.get)\n",
    "# Limit_Bal_Range is ordingal\n",
    "cc_data_processed['LIMIT_BAL_range'] = cc_data['LIMIT_BAL_range'].apply({'0-250k':0,\n",
    "                                                                         '>250k-500k':1,\n",
    "                                                                         '>500k-750k':2,\n",
    "                                                                         '>750k':3}.get)\n",
    "\n",
    "# Drop unused features:\n",
    "# 'Default_Yes_No' - Used for visualization labeling only and same as 'default payment next month'\n",
    "# 'AGE' - Using Age_range instead, may bring back\n",
    "cc_data_processed.drop(['Default_Yes_No','AGE', 'SEX','MARRIAGE', 'LIMIT_BAL'], axis=1, inplace=True)\n",
    "\n",
    "print(cc_data_processed.info())\n",
    "\n",
    "\n",
    "cc_data_processed.to_csv('./cc_data/cc_data_processed.csv')"
   ]
  },
  {
   "cell_type": "code",
   "execution_count": null,
   "metadata": {
    "collapsed": true
   },
   "outputs": [],
   "source": []
  }
 ],
 "metadata": {
  "kernelspec": {
   "display_name": "Python 3",
   "language": "python",
   "name": "python3"
  },
  "language_info": {
   "codemirror_mode": {
    "name": "ipython",
    "version": 3
   },
   "file_extension": ".py",
   "mimetype": "text/x-python",
   "name": "python",
   "nbconvert_exporter": "python",
   "pygments_lexer": "ipython3",
   "version": "3.5.1"
  }
 },
 "nbformat": 4,
 "nbformat_minor": 0
}
