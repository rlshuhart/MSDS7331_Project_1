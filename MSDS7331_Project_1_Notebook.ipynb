{
 "cells": [
  {
   "cell_type": "markdown",
   "metadata": {},
   "source": [
    "# MSDS 7331 - Project 1 - Visualization\n",
    "## Team: Dineen Parker, Dale Legband, Ryan Shuhart"
   ]
  },
  {
   "cell_type": "code",
   "execution_count": 9,
   "metadata": {
    "collapsed": false
   },
   "outputs": [],
   "source": [
    "### Modules Used ###\n",
    "\n",
    "# Pandas Module for data manipulation\n",
    "import pandas as pd\n",
    "\n",
    "# pandas_profiling is a handy tool for inspecting data\n",
    "# https://github.com/JosPolfliet/pandas-profiling\n",
    "# pip install pandas-profiling\n",
    "import pandas_profiling\n",
    "\n",
    "# seaborn and matplotlib\n",
    "import matplotlib.pyplot as plt\n",
    "import seaborn as sns\n",
    "%matplotlib inline\n",
    "\n",
    "# Page settings - might not need...\n",
    "pd.set_option('display.max_rows', 500)\n",
    "pd.set_option('display.max_columns', 500)"
   ]
  },
  {
   "cell_type": "markdown",
   "metadata": {},
   "source": [
    "# Business Understanding (10 points total).\n",
    "* Describe the purpose of the data set you selected (i.e., why was this data collected in\n",
    "the first place?). \n",
    "* Describe how you would define and measure the outcomes from the\n",
    "dataset. That is, why is this data important and how do you know if you have mined\n",
    "useful knowledge from the dataset? \n",
    "* How would you measure the effectiveness of a\n",
    "good prediction algorithm? Be specific.\n",
    "\n",
    "From CRISP-DM article (https://mineracaodedados.files.wordpress.com/2012/04/the-crisp-dm-model-the-new-blueprint-for-data-mining-shearer-colin.pdf):\n",
    "* What are the measures of success?\n",
    "* Are there any assumptions?\n",
    "* Create a glossary, if needed"
   ]
  },
  {
   "cell_type": "code",
   "execution_count": null,
   "metadata": {
    "collapsed": true
   },
   "outputs": [],
   "source": []
  },
  {
   "cell_type": "markdown",
   "metadata": {},
   "source": [
    "# Data Understanding (80 points total)\n",
    "\n",
    "* [15 points] Verify data quality: Explain any missing values, duplicate data, and outliers.\n",
    "Are those mistakes? How do you deal with these problems? Give justifications for your\n",
    "methods.\n",
    "\n",
    "* [10 points] Visualize appropriate statistics (e.g., range, mode, mean, median, variance,\n",
    "counts) for a subset of attributes. Describe anything meaningful you found from this or if\n",
    "you found something potentially interesting. Note: You can also use data from other\n",
    "sources for comparison. Explain why the statistics run are meaningful.\n",
    "\n",
    "* [15 points] Visualize the most interesting attributes (at least 5 attributes, your opinion\n",
    "on what is interesting). Important: Interpret the implications for each\n",
    "visualization. Explain for each attribute why the chosen visualization is appropriate.\n",
    "\n",
    "* [15 points] Visualize relationships between attributes: Look at the attributes via scatter\n",
    "plots, correlation, cross-tabulation, group-wise averages, etc. as appropriate. Explain\n",
    "any interesting relationships.\n",
    "\n",
    "* [10 points] Identify and explain interesting relationships between features and the class\n",
    "you are trying to predict (i.e., relationships with variables and the target classification).\n",
    "\n",
    "* [5 points] Are there other features that could be added to the data or created from\n",
    "existing features? Which ones?"
   ]
  },
  {
   "cell_type": "markdown",
   "metadata": {},
   "source": [
    "### Collect Initial Data\n",
    "Data comes from the UCI Machine Learning Repository\n",
    "\n",
    "http://archive.ics.uci.edu/ml/datasets/default+of+credit+card+clients\n",
    "\n",
    "The given description: <br>\n",
    "\"This research aimed at the case of customer default payments in Taiwan and compares the predictive accuracy of probability of default among six data mining methods. From the perspective of risk management, the result of predictive accuracy of the estimated probability of default will be more valuable than the binary result of classification - credible or not credible clients. Because the real probability of default is unknown, this study presented the novel Sorting Smoothing Method to estimate the real probability of default. With the real probability of default as the response variable (Y), and the predictive probability of default as the independent variable (X), the simple linear regression result (Y = A + BX) shows that the forecasting model produced by artificial neural network has the highest coefficient of determination; its regression intercept (A) is close to zero, and regression coefficient (B) to one. Therefore, among the six data mining techniques, artificial neural network is the only one that can accurately estimate the real probability of default.\"\n",
    "\n"
   ]
  },
  {
   "cell_type": "code",
   "execution_count": 41,
   "metadata": {
    "collapsed": true
   },
   "outputs": [],
   "source": [
    "# Data comes from the UCI Machine Learning Repository\n",
    "# http://archive.ics.uci.edu/ml/datasets/default+of+credit+card+clients\n",
    "# load the data into memory source. First row are for reference with headings starting on line 2.\n",
    "# ID field is use as the index field in the data frame\n",
    "cc_data = (pd.read_excel(\"./cc_data/default of credit card clients.xls\", skiprows=1, index_col='ID')\n",
    "             .rename(columns={'PAY_0':'PAY_0_Sept', \n",
    "                              'PAY_2':'PAY_2_Aug', #No Pay_2\n",
    "                              'PAY_3':'PAY_3_July', \n",
    "                              'PAY_4':'PAY_4_June',\n",
    "                              'PAY_5':'PAY_5_May',\n",
    "                              'PAY_6':'PAY_6_April',\n",
    "                              'BILL_AMT1':'BILL_AMT1_Sept', \n",
    "                              'BILL_AMT2':'BILL_AMT2_Aug', \n",
    "                              'BILL_AMT3':'BILL_AMT3_July', \n",
    "                              'BILL_AMT4':'BILL_AMT4_June', \n",
    "                              'BILL_AMT5':'BILL_AMT5_May',\n",
    "                              'BILL_AMT6':'BILL_AMT6_April', \n",
    "                              'PAY_AMT1':'PAY_AMT1_Sept', \n",
    "                              'PAY_AMT2':'PAY_AMT2_Aug', \n",
    "                              'PAY_AMT3':'PAY_AMT3_July', \n",
    "                              'PAY_AMT4':'PAY_AMT4_June', \n",
    "                              'PAY_AMT5':'PAY_AMT5_May',\n",
    "                              'PAY_AMT6':'PAY_AMT6_April'\n",
    "                             })\n",
    "           )\n",
    "\n",
    "# Convert numerical representations to category names\n",
    "# cc_data.loc[(cc_data['SEX']==1), 'SEX'] = 'Male'\n",
    "# cc_data.loc[(cc_data['SEX']==2), 'SEX'] = 'Female'\n",
    "\n",
    "# cc_data.loc[(cc_data['EDUCATION']==1), 'EDUCATION'] = 'graduate school'\n",
    "# cc_data.loc[(cc_data['EDUCATION']==2), 'EDUCATION'] = 'university'\n",
    "# cc_data.loc[(cc_data['EDUCATION']==3), 'EDUCATION'] = 'high school'\n",
    "# cc_data.loc[(cc_data['EDUCATION']==4), 'EDUCATION'] = 'others'\n",
    "\n",
    "# cc_data.loc[(cc_data['MARRIAGE']==1), 'MARRIAGE'] = 'Married'\n",
    "# cc_data.loc[(cc_data['MARRIAGE']==2), 'MARRIAGE'] = 'Single'\n",
    "# cc_data.loc[(cc_data['MARRIAGE']==3), 'MARRIAGE'] = 'Others'\n",
    "# cc_data.loc[(cc_data['MARRIAGE']==0), 'MARRIAGE'] = 'Others' # What is the 0? Imputing to 'Others'"
   ]
  },
  {
   "cell_type": "markdown",
   "metadata": {},
   "source": [
    "### Describe the data\n",
    "LIMIT_BAL: Amount of the given credit (NT dollar): it includes both the individual consumer credit and his/her family (supplementary) credit. <br>\n",
    "SEX\tGender: (1 = male; 2 = female)<br>\n",
    "EDUCATION:  Education (1 = graduate school; 2 = university; 3 = high school; 4 = others)<br>\n",
    "MARRIAGE:   Marital status (1 = married; 2 = single; 3 = others)<br>\n",
    "AGE:        Age (year)<br>\n"
   ]
  },
  {
   "cell_type": "code",
   "execution_count": 42,
   "metadata": {
    "collapsed": false
   },
   "outputs": [
    {
     "name": "stdout",
     "output_type": "stream",
     "text": [
      "Index(['LIMIT_BAL', 'SEX', 'EDUCATION', 'MARRIAGE', 'AGE', 'PAY_0_Sept',\n",
      "       'PAY_2_Aug', 'PAY_3_July', 'PAY_4_June', 'PAY_5_May', 'PAY_6_April',\n",
      "       'BILL_AMT1', 'BILL_AMT2', 'BILL_AMT3', 'BILL_AMT4', 'BILL_AMT5',\n",
      "       'BILL_AMT6', 'PAY_AMT1', 'PAY_AMT2', 'PAY_AMT3', 'PAY_AMT4', 'PAY_AMT5',\n",
      "       'PAY_AMT6', 'default payment next month'],\n",
      "      dtype='object')\n"
     ]
    }
   ],
   "source": [
    "print(cc_data.columns)\n",
    "# cc_data.rename(columns={'PAY_0':'PAY_0_Sept', 'PAY_2':'PAY_2_Aug',\n",
    "#        'PAY_3':'PAY_3_July', 'PAY_4':'PAY_4_June', 'PAY_5':'PAY_5_May', 'PAY_6':'PAY_6_April'}, inplace=True)\n",
    "# print(cc_data.columns)"
   ]
  },
  {
   "cell_type": "markdown",
   "metadata": {},
   "source": [
    "* [10 points] Describe the meaning and type of data (scale, values, etc.) for each\n",
    "attribute in the data file.\n",
    "\n",
    "#### Summary Statistics\n",
    "- Distribution of Defaults (facet plot)\n",
    " - by age\n",
    " - by sex\n",
    " - by education\n",
    " - by marriage\n",
    "- Distribution of age\n",
    "- Distribution of sex\n",
    "- Distribution of education<br><br>\n",
    "- CC History frequency tables\n",
    " - by age\n",
    " - by sex\n",
    " - by education\n",
    " - by marriage"
   ]
  },
  {
   "cell_type": "code",
   "execution_count": 31,
   "metadata": {
    "collapsed": false
   },
   "outputs": [
    {
     "name": "stdout",
     "output_type": "stream",
     "text": [
      "   MARRIAGE  Count\n",
      "0         0     54\n",
      "1         1  13659\n",
      "2         2  15964\n",
      "3         3    323\n",
      "\n",
      "   SEX  Count\n",
      "0    1  11888\n",
      "1    2  18112\n",
      "\n",
      "   EDUCATION  Count\n",
      "0          0     14\n",
      "1          1  10585\n",
      "2          2  14030\n",
      "3          3   4917\n",
      "4          4    123\n",
      "5          5    280\n",
      "6          6     51\n",
      "\n",
      "    AGE  Count\n",
      "0    21     67\n",
      "1    22    560\n",
      "2    23    931\n",
      "3    24   1127\n",
      "4    25   1186\n",
      "5    26   1256\n",
      "6    27   1477\n",
      "7    28   1409\n",
      "8    29   1605\n",
      "9    30   1395\n",
      "10   31   1217\n",
      "11   32   1158\n",
      "12   33   1146\n",
      "13   34   1162\n",
      "14   35   1113\n",
      "15   36   1108\n",
      "16   37   1041\n",
      "17   38    944\n",
      "18   39    954\n",
      "19   40    870\n",
      "20   41    824\n",
      "21   42    794\n",
      "22   43    670\n",
      "23   44    700\n",
      "24   45    617\n",
      "25   46    570\n",
      "26   47    501\n",
      "27   48    466\n",
      "28   49    452\n",
      "29   50    411\n",
      "30   51    340\n",
      "31   52    304\n",
      "32   53    325\n",
      "33   54    247\n",
      "34   55    209\n",
      "35   56    178\n",
      "36   57    122\n",
      "37   58    122\n",
      "38   59     83\n",
      "39   60     67\n",
      "40   61     56\n",
      "41   62     44\n",
      "42   63     31\n",
      "43   64     31\n",
      "44   65     24\n",
      "45   66     25\n",
      "46   67     16\n",
      "47   68      5\n",
      "48   69     15\n",
      "49   70     10\n",
      "50   71      3\n",
      "51   72      3\n",
      "52   73      4\n",
      "53   74      1\n",
      "54   75      3\n",
      "55   79      1\n"
     ]
    }
   ],
   "source": [
    "print(pd.DataFrame({'Count': cc_data.groupby('MARRIAGE').size()}).reset_index())\n",
    "print()\n",
    "print(pd.DataFrame({'Count': cc_data.groupby('SEX').size()}).reset_index())\n",
    "print()\n",
    "print(pd.DataFrame({'Count': cc_data.groupby('EDUCATION').size()}).reset_index())\n",
    "print()\n",
    "print(pd.DataFrame({'Count': cc_data.groupby('AGE').size()}).reset_index())"
   ]
  },
  {
   "cell_type": "markdown",
   "metadata": {
    "collapsed": true
   },
   "source": [
    "### Explore the data"
   ]
  },
  {
   "cell_type": "code",
   "execution_count": 7,
   "metadata": {
    "collapsed": false
   },
   "outputs": [],
   "source": [
    "#profile = pandas_profiling.ProfileReport(cc_data)\n",
    "#profile.to_file(outputfile=\"./myoutputfile.html\")"
   ]
  },
  {
   "cell_type": "code",
   "execution_count": 10,
   "metadata": {
    "collapsed": false
   },
   "outputs": [
    {
     "data": {
      "text/plain": [
       "<matplotlib.axes._subplots.AxesSubplot at 0xdab0dd8>"
      ]
     },
     "execution_count": 10,
     "metadata": {},
     "output_type": "execute_result"
    },
    {
     "data": {
      "image/png": "[encoded data removed]",
      "text/plain": [
       "<matplotlib.figure.Figure at 0xb11b240>"
      ]
     },
     "metadata": {},
     "output_type": "display_data"
    }
   ],
   "source": [
    "sns.violinplot(data=cc_data, x='default payment next month',y='LIMIT_BAL', hue='SEX', split=True, inner=\"quart\")"
   ]
  },
  {
   "cell_type": "code",
   "execution_count": null,
   "metadata": {
    "collapsed": true
   },
   "outputs": [],
   "source": []
  },
  {
   "cell_type": "markdown",
   "metadata": {},
   "source": [
    "### Verify the data quality"
   ]
  },
  {
   "cell_type": "markdown",
   "metadata": {
    "collapsed": true
   },
   "source": [
    "Why BILL_AMT1 Minimum-165580<br>\n",
    "Why EDUCATION include 5 or 6<br>\n",
    "Why Marriage include 0 zero<br>\n",
    "Are there any zeros in the Past Payment fields (Pay_0_Sept...)"
   ]
  },
  {
   "cell_type": "markdown",
   "metadata": {},
   "source": [
    "# Exceptional Work (10 points total)\n",
    "* You have free reign to provide additional analyses.\n",
    "*One idea: implement dimensionality reduction, then visualize and interpret the results.\n",
    "\n",
    "feature creation ideas:\n",
    "* Age brackets\n",
    "* Ratio of Pay Amount to Bill Amount\n",
    "* Ratio of Bill Amount to LIMIT_BAL\n",
    "* Transformation of data - scaling"
   ]
  },
  {
   "cell_type": "code",
   "execution_count": null,
   "metadata": {
    "collapsed": true
   },
   "outputs": [],
   "source": []
  },
  {
   "cell_type": "markdown",
   "metadata": {
    "collapsed": true
   },
   "source": [
    "Sources:\n",
    "https://www.wakari.io/sharing/bundle/ijstokes/pyvis-1h?has_login=False"
   ]
  }
 ],
 "metadata": {
  "kernelspec": {
   "display_name": "Python 3",
   "language": "python",
   "name": "python3"
  },
  "language_info": {
   "codemirror_mode": {
    "name": "ipython",
    "version": 3
   },
   "file_extension": ".py",
   "mimetype": "text/x-python",
   "name": "python",
   "nbconvert_exporter": "python",
   "pygments_lexer": "ipython3",
   "version": "3.5.1"
  }
 },
 "nbformat": 4,
 "nbformat_minor": 0
}
