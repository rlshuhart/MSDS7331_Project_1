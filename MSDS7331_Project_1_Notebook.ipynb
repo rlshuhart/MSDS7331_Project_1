{
 "cells": [
  {
   "cell_type": "markdown",
   "metadata": {},
   "source": [
    "# MSDS 7331 - Project 1 - Visualization\n",
    "## Team: Dineen Parker, Dale Legband, Ryan Shuhart"
   ]
  },
  {
   "cell_type": "code",
   "execution_count": 1,
   "metadata": {
    "collapsed": false
   },
   "outputs": [],
   "source": [
    "### Modules Used ###\n",
    "\n",
    "# Pandas Module for data manipulation\n",
    "import pandas as pd\n",
    "\n",
    "# pandas_profiling is a handy tool for inspecting data\n",
    "# https://github.com/JosPolfliet/pandas-profiling\n",
    "# pip install pandas-profiling\n",
    "import pandas_profiling\n",
    "\n",
    "# seaborn and matplotlib\n",
    "import matplotlib.pyplot as plt\n",
    "import seaborn as sns\n",
    "%matplotlib inline\n",
    "\n",
    "# Page settings - might not need...\n",
    "pd.set_option('display.max_rows', 500)\n",
    "pd.set_option('display.max_columns', 1000)\n",
    "\n",
    "# Prevents scientific notation formatting issues. Limits floats to one decimal place.\n",
    "pd.set_option('display.float_format', lambda x: '%.1f' % x) "
   ]
  },
  {
   "cell_type": "markdown",
   "metadata": {},
   "source": [
    "# Business Understanding (10 points total).\n",
    "* Describe the purpose of the data set you selected (i.e., why was this data collected in\n",
    "the first place?). \n",
    "* Describe how you would define and measure the outcomes from the\n",
    "dataset. That is, why is this data important and how do you know if you have mined\n",
    "useful knowledge from the dataset? \n",
    "* How would you measure the effectiveness of a\n",
    "good prediction algorithm? Be specific.\n",
    "\n",
    "From CRISP-DM article (https://mineracaodedados.files.wordpress.com/2012/04/the-crisp-dm-model-the-new-blueprint-for-data-mining-shearer-colin.pdf):\n",
    "* What are the measures of success?\n",
    "* Are there any assumptions?\n",
    "* Create a glossary, if needed"
   ]
  },
  {
   "cell_type": "code",
   "execution_count": null,
   "metadata": {
    "collapsed": true
   },
   "outputs": [],
   "source": []
  },
  {
   "cell_type": "markdown",
   "metadata": {},
   "source": [
    "# Data Understanding (80 points total)\n",
    "\n",
    "* [15 points] Verify data quality: Explain any missing values, duplicate data, and outliers.\n",
    "Are those mistakes? How do you deal with these problems? Give justifications for your\n",
    "methods.\n",
    "\n",
    "* [10 points] Visualize appropriate statistics (e.g., range, mode, mean, median, variance,\n",
    "counts) for a subset of attributes. Describe anything meaningful you found from this or if\n",
    "you found something potentially interesting. Note: You can also use data from other\n",
    "sources for comparison. Explain why the statistics run are meaningful.\n",
    "\n",
    "* [15 points] Visualize the most interesting attributes (at least 5 attributes, your opinion\n",
    "on what is interesting). Important: Interpret the implications for each\n",
    "visualization. Explain for each attribute why the chosen visualization is appropriate.\n",
    "\n",
    "* [15 points] Visualize relationships between attributes: Look at the attributes via scatter\n",
    "plots, correlation, cross-tabulation, group-wise averages, etc. as appropriate. Explain\n",
    "any interesting relationships.\n",
    "\n",
    "* [10 points] Identify and explain interesting relationships between features and the class\n",
    "you are trying to predict (i.e., relationships with variables and the target classification).\n",
    "\n",
    "* [5 points] Are there other features that could be added to the data or created from\n",
    "existing features? Which ones?"
   ]
  },
  {
   "cell_type": "markdown",
   "metadata": {},
   "source": [
    "### Collect Initial Data\n",
    "Data comes from the UCI Machine Learning Repository\n",
    "\n",
    "http://archive.ics.uci.edu/ml/datasets/default+of+credit+card+clients\n",
    "\n",
    "The given description: <br>\n",
    "\"This research aimed at the case of customer default payments in Taiwan and compares the predictive accuracy of probability of default among six data mining methods. From the perspective of risk management, the result of predictive accuracy of the estimated probability of default will be more valuable than the binary result of classification - credible or not credible clients. Because the real probability of default is unknown, this study presented the novel Sorting Smoothing Method to estimate the real probability of default. With the real probability of default as the response variable (Y), and the predictive probability of default as the independent variable (X), the simple linear regression result (Y = A + BX) shows that the forecasting model produced by artificial neural network has the highest coefficient of determination; its regression intercept (A) is close to zero, and regression coefficient (B) to one. Therefore, among the six data mining techniques, artificial neural network is the only one that can accurately estimate the real probability of default.\"\n",
    "\n"
   ]
  },
  {
   "cell_type": "markdown",
   "metadata": {},
   "source": [
    "### Description of the Data per Offical Documentation\n",
    "    \n",
    "**LIMIT_BAL** (Ratio): Amount of the given credit (NT dollar): it includes both the individual consumer credit and his/her family (supplementary) credit.<br>\n",
    "**SEX** (Nominal): Gender (1 = male; 2 = female)<br>\n",
    "**EDUCATION** (Nominal): Education (1 = graduate school; 2 = university; 3 = high school; 4 = others)<br>\n",
    "**MARRIAGE** (Nominal): Marital status (1 = married; 2 = single; 3 = others)<BR>\n",
    "**AGE** (Interval): Age (year)<BR>\n",
    "**PAY_0_Sept - PAY_6_April** (Ordinal): History of past payment. The past monthly payment records (from April to September, \n",
    "2005). The measurement scale for the repayment status is: <BR>\n",
    "&nbsp;&nbsp;&nbsp;&nbsp;&nbsp;&nbsp;-1 = pay duly<BR>\n",
    "&nbsp;&nbsp;&nbsp;&nbsp;&nbsp;&nbsp;1 - 8 = payment delay for one to eight months <BR>\n",
    "&nbsp;&nbsp;&nbsp;&nbsp;&nbsp;&nbsp;9 = payment delay for nine months and above<BR>\n",
    "**BILL_AMT1_Sept - BILL_AMT6_April** (Ratio): Amount of bill statement (NT dollar) <BR>\n",
    "**PAY_AMT1_Sept - PAY_AMT6_April** (Ratio): Amount of previous payment (NT dollar) <BR>\n",
    "**default payment next month** (Nominal): default payment (Yes = 1, No = 0)"
   ]
  },
  {
   "cell_type": "code",
   "execution_count": 23,
   "metadata": {
    "collapsed": false
   },
   "outputs": [],
   "source": [
    "# First row are for reference with header starting on line 2.\n",
    "# ID field is use as the index field in the data frame\n",
    "# Month specific columns renamed with month for readability\n",
    "cc_data = (pd.read_excel(\"./cc_data/default of credit card clients.xls\", skiprows=1, index_col='ID')\n",
    "             .rename(columns={'PAY_0':'PAY_0_Sept', #No Pay_1\n",
    "                              'PAY_2':'PAY_2_Aug', \n",
    "                              'PAY_3':'PAY_3_July', \n",
    "                              'PAY_4':'PAY_4_June',\n",
    "                              'PAY_5':'PAY_5_May',\n",
    "                              'PAY_6':'PAY_6_April',\n",
    "                              'BILL_AMT1':'BILL_AMT1_Sept', \n",
    "                              'BILL_AMT2':'BILL_AMT2_Aug', \n",
    "                              'BILL_AMT3':'BILL_AMT3_July', \n",
    "                              'BILL_AMT4':'BILL_AMT4_June', \n",
    "                              'BILL_AMT5':'BILL_AMT5_May',\n",
    "                              'BILL_AMT6':'BILL_AMT6_April', \n",
    "                              'PAY_AMT1':'PAY_AMT1_Sept', \n",
    "                              'PAY_AMT2':'PAY_AMT2_Aug', \n",
    "                              'PAY_AMT3':'PAY_AMT3_July', \n",
    "                              'PAY_AMT4':'PAY_AMT4_June', \n",
    "                              'PAY_AMT5':'PAY_AMT5_May',\n",
    "                              'PAY_AMT6':'PAY_AMT6_April'\n",
    "                             })\n",
    "             # Due to the many age values, creating age brackets\n",
    "             .assign(age_range = lambda x: pd.cut(x['AGE'],[20,30,40,50,60,70,120], 6, \n",
    "                                                 labels=['21-30','31-40','41-50','51-60','61-70','71-80+']))\n",
    "             # this creates a new variable for LIMIT_BAL_brackets\n",
    "             .assign(LIMIT_BAL_range = lambda x: pd.cut(x['LIMIT_BAL'],[0,250000,500000,750000,1e7], 4, \n",
    "                                                 labels=['0-250k','>250k-500k','>500k-750k','>750k']))\n",
    "           )\n",
    "\n",
    "# Convert numerical representations to category names\n",
    "cc_data.loc[(cc_data['SEX']==1), 'SEX'] = 'Male'\n",
    "cc_data.loc[(cc_data['SEX']==2), 'SEX'] = 'Female'\n",
    "\n",
    "cc_data.loc[(cc_data['EDUCATION']==1), 'EDUCATION'] = 'Graduate School'\n",
    "cc_data.loc[(cc_data['EDUCATION']==2), 'EDUCATION'] = 'University'\n",
    "cc_data.loc[(cc_data['EDUCATION']==3), 'EDUCATION'] = 'High School'\n",
    "cc_data.loc[(cc_data['EDUCATION']==4), 'EDUCATION'] = 'Others'\n",
    "\n",
    "cc_data.loc[(cc_data['MARRIAGE']==1), 'MARRIAGE'] = 'Married'\n",
    "cc_data.loc[(cc_data['MARRIAGE']==2), 'MARRIAGE'] = 'Single'\n",
    "cc_data.loc[(cc_data['MARRIAGE']==3), 'MARRIAGE'] = 'Others'"
   ]
  },
  {
   "cell_type": "code",
   "execution_count": 17,
   "metadata": {
    "collapsed": false
   },
   "outputs": [
    {
     "data": {
      "text/plain": [
       "Index(['LIMIT_BAL', 'SEX', 'EDUCATION', 'MARRIAGE', 'AGE', 'PAY_0_Sept',\n",
       "       'PAY_2_Aug', 'PAY_3_July', 'PAY_4_June', 'PAY_5_May', 'PAY_6_April',\n",
       "       'BILL_AMT1_Sept', 'BILL_AMT2_Aug', 'BILL_AMT3_July', 'BILL_AMT4_June',\n",
       "       'BILL_AMT5_May', 'BILL_AMT6_April', 'PAY_AMT1_Sept', 'PAY_AMT2_Aug',\n",
       "       'PAY_AMT3_July', 'PAY_AMT4_June', 'PAY_AMT5_May', 'PAY_AMT6_April',\n",
       "       'default payment next month', 'age_range', 'LIMIT_BAL_range'],\n",
       "      dtype='object')"
      ]
     },
     "execution_count": 17,
     "metadata": {},
     "output_type": "execute_result"
    }
   ],
   "source": [
    "# For reference and copy/pasting column names\n",
    "cc_data.columns"
   ]
  },
  {
   "cell_type": "markdown",
   "metadata": {},
   "source": [
    "### Verify the data quality"
   ]
  },
  {
   "cell_type": "code",
   "execution_count": 27,
   "metadata": {
    "collapsed": false
   },
   "outputs": [
    {
     "name": "stdout",
     "output_type": "stream",
     "text": [
      "      SEX  SEX_Count  SEX_Prop\n",
      "0  Female      18112      60.4\n",
      "1    Male      11888      39.6\n",
      "0  _Total      30000     100.0\n",
      "\n",
      "         EDUCATION  EDUCATION_Count  EDUCATION_Prop\n",
      "0                0               14             0.0\n",
      "1                5              280             0.9\n",
      "2                6               51             0.2\n",
      "3  Graduate School            10585            35.3\n",
      "4      High School             4917            16.4\n",
      "5           Others              123             0.4\n",
      "6       University            14030            46.8\n",
      "0           _Total            30000           100.0\n",
      "\n",
      "  MARRIAGE  MARRIAGE_Count  MARRIAGE_Prop\n",
      "0        0              54            0.2\n",
      "1  Married           13659           45.5\n",
      "2   Others             323            1.1\n",
      "3   Single           15964           53.2\n",
      "0   _Total           30000          100.0\n",
      "\n",
      "  default payment next month  default payment next month_Count  \\\n",
      "0                          0                             23364   \n",
      "1                          1                              6636   \n",
      "0                     _Total                             30000   \n",
      "\n",
      "   default payment next month_Prop  \n",
      "0                             77.9  \n",
      "1                             22.1  \n",
      "0                            100.0  \n",
      "\n",
      "   PAY_0_Sept  PAY_0_Sept_Count  PAY_0_Sept_Prop\n",
      "0          -2              2759              9.2\n",
      "1          -1              5686             19.0\n",
      "2           0             14737             49.1\n",
      "3           1              3688             12.3\n",
      "4           2              2667              8.9\n",
      "5           3               322              1.1\n",
      "6           4                76              0.3\n",
      "7           5                26              0.1\n",
      "8           6                11              0.0\n",
      "9           7                 9              0.0\n",
      "10          8                19              0.1\n",
      "0      _Total             30000            100.0\n",
      "\n",
      "   PAY_2_Aug  PAY_2_Aug_Count  PAY_2_Aug_Prop\n",
      "0         -2             3782            12.6\n",
      "1         -1             6050            20.2\n",
      "2          0            15730            52.4\n",
      "3          1               28             0.1\n",
      "4          2             3927            13.1\n",
      "5          3              326             1.1\n",
      "6          4               99             0.3\n",
      "7          5               25             0.1\n",
      "8          6               12             0.0\n",
      "9          7               20             0.1\n",
      "10         8                1             0.0\n",
      "0     _Total            30000           100.0\n",
      "\n",
      "   PAY_3_July  PAY_3_July_Count  PAY_3_July_Prop\n",
      "0          -2              4085             13.6\n",
      "1          -1              5938             19.8\n",
      "2           0             15764             52.5\n",
      "3           1                 4              0.0\n",
      "4           2              3819             12.7\n",
      "5           3               240              0.8\n",
      "6           4                76              0.3\n",
      "7           5                21              0.1\n",
      "8           6                23              0.1\n",
      "9           7                27              0.1\n",
      "10          8                 3              0.0\n",
      "0      _Total             30000            100.0\n",
      "\n",
      "   PAY_4_June  PAY_4_June_Count  PAY_4_June_Prop\n",
      "0          -2              4348             14.5\n",
      "1          -1              5687             19.0\n",
      "2           0             16455             54.9\n",
      "3           1                 2              0.0\n",
      "4           2              3159             10.5\n",
      "5           3               180              0.6\n",
      "6           4                69              0.2\n",
      "7           5                35              0.1\n",
      "8           6                 5              0.0\n",
      "9           7                58              0.2\n",
      "10          8                 2              0.0\n",
      "0      _Total             30000            100.0\n",
      "\n",
      "  PAY_5_May  PAY_5_May_Count  PAY_5_May_Prop\n",
      "0        -2             4546            15.2\n",
      "1        -1             5539            18.5\n",
      "2         0            16947            56.5\n",
      "3         2             2626             8.8\n",
      "4         3              178             0.6\n",
      "5         4               84             0.3\n",
      "6         5               17             0.1\n",
      "7         6                4             0.0\n",
      "8         7               58             0.2\n",
      "9         8                1             0.0\n",
      "0    _Total            30000           100.0\n",
      "\n",
      "  PAY_6_April  PAY_6_April_Count  PAY_6_April_Prop\n",
      "0          -2               4895              16.3\n",
      "1          -1               5740              19.1\n",
      "2           0              16286              54.3\n",
      "3           2               2766               9.2\n",
      "4           3                184               0.6\n",
      "5           4                 49               0.2\n",
      "6           5                 13               0.0\n",
      "7           6                 19               0.1\n",
      "8           7                 46               0.2\n",
      "9           8                  2               0.0\n",
      "0      _Total              30000             100.0\n",
      "\n",
      "  age_range  age_range_Count  age_range_Prop\n",
      "0     21-30            11013            36.7\n",
      "1     31-40            10713            35.7\n",
      "2     41-50             6005            20.0\n",
      "3     51-60             1997             6.7\n",
      "4     61-70              257             0.9\n",
      "5    71-80+               15             0.1\n",
      "0       NaN            30000           100.0\n",
      "\n",
      "  LIMIT_BAL_range  LIMIT_BAL_range_Count  LIMIT_BAL_range_Prop\n",
      "0          0-250k                  23283                  77.6\n",
      "1      >250k-500k                   6511                  21.7\n",
      "2      >500k-750k                    200                   0.7\n",
      "3           >750k                      6                   0.0\n",
      "0             NaN                  30000                 100.0\n",
      "\n"
     ]
    }
   ],
   "source": [
    "# Function to show counts and proportion of a given field\n",
    "def category_proportion(df, series_name):\n",
    "    df_counts = pd.DataFrame({series_name + '_Count' : df.groupby(series_name)[series_name].size(), \n",
    "                  series_name+'_Prop' : df.groupby(series_name)[series_name].size().apply(\n",
    "                                        lambda x: float(x) / df.groupby(series_name).size().sum()*100)}).reset_index()\n",
    "    df_tots = pd.DataFrame({series_name:['_Total'],\n",
    "              series_name+'_Count':df_counts[series_name + '_Count'].sum(),\n",
    "              series_name+'_Prop':df_counts[series_name+'_Prop'].sum()})\n",
    "    return pd.concat([df_counts,df_tots])\n",
    "\n",
    "# look through categorical variables that have values not defined\n",
    "cat_vars = ['SEX','EDUCATION','MARRIAGE','default payment next month', 'PAY_0_Sept',\n",
    "            'PAY_2_Aug', 'PAY_3_July', 'PAY_4_June', 'PAY_5_May', 'PAY_6_April', 'age_range', 'LIMIT_BAL_range']\n",
    "\n",
    "con_vars = ['LIMIT_BAL', 'AGE', 'BILL_AMT1_Sept', 'BILL_AMT2_Aug', 'BILL_AMT3_July', \n",
    "            'BILL_AMT4_June','BILL_AMT5_May', 'BILL_AMT6_April', 'PAY_AMT1_Sept', \n",
    "            'PAY_AMT2_Aug', 'PAY_AMT3_July', 'PAY_AMT4_June', 'PAY_AMT5_May', \n",
    "            'PAY_AMT6_April']\n",
    "\n",
    "for i in range(len(cat_vars)):\n",
    "    print(category_proportion(cc_data, cat_vars[i]))\n",
    "    print()"
   ]
  },
  {
   "cell_type": "markdown",
   "metadata": {},
   "source": [
    "It appears EDUCATION, MARRIAGE, and PAY_0_Sept-PAY_6_April (history of past payment) have values not defined by the documentation. EDUCATION should only have values 1-4 representing graduate school(1), university(2), high school(3), and others(4), however, has 0, 5, and 6. The undefinded values make up only about 1% of the observations will be imputed to the 'others' category, 4. MARRIAGE documentation states 3 categories, married(1), single(2), and others(3), yet .2% of values are defined as 0. The value 0 for MARRIAGE will be imputed to the 'others' catgory of 3. According to the documentation, PAY_0_Sept-PAY_6_April, should have values -1 or 1-9, however, the data is different and the values range from -2 to 9. Following the logic, -2 must be two months early, -1 one month early, 0 on time, 1 one month late, and so on up to 9 where 9 represents 9 months late or more. Further investigation shows not much difference in default between -2 to 0. "
   ]
  },
  {
   "cell_type": "code",
   "execution_count": null,
   "metadata": {
    "collapsed": false
   },
   "outputs": [],
   "source": [
    "# Impute undefined values\n",
    "cc_data.loc[(~cc_data['EDUCATION'].isin(['Graduate School','University','High School','Others'])), 'EDUCATION'] = 'Others'\n",
    "cc_data.loc[(cc_data['MARRIAGE']==0), 'MARRIAGE'] = 'Others' \n",
    "\n",
    "# recheck\n",
    "for i in range(len(cat_vars)):\n",
    "    print(category_proportion(cc_data, cat_vars[i]))\n",
    "    print()"
   ]
  },
  {
   "cell_type": "markdown",
   "metadata": {},
   "source": [
    "Categorical data appears to be in better order now.\n",
    "\n",
    "**Artifacts**:<br>\n",
    "1 month delays seems to be far more absent in months PAY_2_Aug to PAY_6_April, with PAY_5_May, PAY_6_April not having any at all. This seems rather odd. Only PAY_0_Sept of 1 seems to fit."
   ]
  },
  {
   "cell_type": "code",
   "execution_count": null,
   "metadata": {
    "collapsed": false
   },
   "outputs": [],
   "source": []
  },
  {
   "cell_type": "markdown",
   "metadata": {
    "collapsed": true
   },
   "source": [
    "Why BILL_AMT1 Minimum-165580<br>"
   ]
  },
  {
   "cell_type": "markdown",
   "metadata": {},
   "source": [
    "* [10 points] Describe the meaning and type of data (scale, values, etc.) for each\n",
    "attribute in the data file.\n",
    "\n",
    "#### Summary Statistics\n",
    "- Distribution of Defaults (facet plot)\n",
    " - by age\n",
    " - by sex\n",
    " - by education\n",
    " - by marriage\n",
    "- Distribution of age\n",
    "- Distribution of sex\n",
    "- Distribution of education<br><br>\n",
    "- CC History frequency tables\n",
    " - by age\n",
    " - by sex\n",
    " - by education\n",
    " - by marriage"
   ]
  },
  {
   "cell_type": "code",
   "execution_count": null,
   "metadata": {
    "collapsed": false
   },
   "outputs": [],
   "source": []
  },
  {
   "cell_type": "code",
   "execution_count": null,
   "metadata": {
    "collapsed": false
   },
   "outputs": [],
   "source": [
    "# cc_data_grouped = cc_data.groupby('MARRIAGE')\n",
    "# pd.DataFrame({'default payment next month': cc_data_grouped['default payment next month'].sum()\n",
    "#               /cc_data_grouped['default payment next month'].count()})\n",
    "\n",
    "cc_data_grouped = cc_data.groupby([cat_vars[4],'default payment next month'])\n",
    "#print(cc_data_grouped['default payment next month'].sum().unstack())\n",
    "df1 = cc_data_grouped['default payment next month'].count().unstack().reset_index()\n",
    "df1['Default Odds'] = (df1[1]/(df1[0]+df1[1]))/(df1[0]/(df1[0]+df1[1]))\n",
    "df1\n",
    "#print(cc_data_grouped['default payment next month'].sum().unstack()/cc_data_grouped['default payment next month'].count().unstack())"
   ]
  },
  {
   "cell_type": "code",
   "execution_count": null,
   "metadata": {
    "collapsed": false
   },
   "outputs": [],
   "source": [
    "sns.lmplot(data=df1, x='PAY_0_Sept', y='Default Odds')"
   ]
  },
  {
   "cell_type": "code",
   "execution_count": null,
   "metadata": {
    "collapsed": false
   },
   "outputs": [],
   "source": [
    "#Logistic line for \n",
    "sns.lmplot(data=cc_data, x='PAY_0_Sept', y='default payment next month', x_jitter=.1, y_jitter=.02, col='SEX', logistic=True)\n",
    "sns.lmplot(data=cc_data, x='PAY_0_Sept', y='default payment next month', x_jitter=.1, y_jitter=.02, col='EDUCATION', logistic=True)\n"
   ]
  },
  {
   "cell_type": "markdown",
   "metadata": {
    "collapsed": true
   },
   "source": [
    "### Explore the data"
   ]
  },
  {
   "cell_type": "code",
   "execution_count": null,
   "metadata": {
    "collapsed": false
   },
   "outputs": [],
   "source": [
    "profile = pandas_profiling.ProfileReport(cc_data)\n",
    "profile.to_file(outputfile=\"./myoutputfile.html\")"
   ]
  },
  {
   "cell_type": "code",
   "execution_count": null,
   "metadata": {
    "collapsed": false
   },
   "outputs": [],
   "source": [
    "sns.violinplot(data=cc_data, x='default payment next month',y='LIMIT_BAL', hue='SEX', split=True, inner=\"quart\")"
   ]
  },
  {
   "cell_type": "code",
   "execution_count": null,
   "metadata": {
    "collapsed": true
   },
   "outputs": [],
   "source": []
  },
  {
   "cell_type": "markdown",
   "metadata": {},
   "source": [
    "# Exceptional Work (10 points total)\n",
    "* You have free reign to provide additional analyses.\n",
    "*One idea: implement dimensionality reduction, then visualize and interpret the results.\n",
    "\n",
    "feature creation ideas:\n",
    "* Age brackets\n",
    "* Ratio of Pay Amount to Bill Amount\n",
    "* Ratio of Bill Amount to LIMIT_BAL\n",
    "* Transformation of data - scaling"
   ]
  },
  {
   "cell_type": "code",
   "execution_count": 25,
   "metadata": {
    "collapsed": false
   },
   "outputs": [
    {
     "data": {
      "text/plain": [
       "<matplotlib.axes._subplots.AxesSubplot at 0xe295748>"
      ]
     },
     "execution_count": 25,
     "metadata": {},
     "output_type": "execute_result"
    },
    {
     "data": {
      "image/png": "[encoded data removed]",
      "text/plain": [
       "<matplotlib.figure.Figure at 0xe270898>"
      ]
     },
     "metadata": {},
     "output_type": "display_data"
    }
   ],
   "source": [
    "#sns.distplot(cc_data['LIMIT_BAL_range'])\n",
    "sns.violinplot(data=cc_data, x='LIMIT_BAL_range', y=\"AGE\", hue='SEX')"
   ]
  },
  {
   "cell_type": "code",
   "execution_count": null,
   "metadata": {
    "collapsed": false
   },
   "outputs": [],
   "source": []
  },
  {
   "cell_type": "code",
   "execution_count": null,
   "metadata": {
    "collapsed": false
   },
   "outputs": [],
   "source": []
  },
  {
   "cell_type": "markdown",
   "metadata": {
    "collapsed": true
   },
   "source": [
    "Sources:\n",
    "https://www.wakari.io/sharing/bundle/ijstokes/pyvis-1h?has_login=False"
   ]
  }
 ],
 "metadata": {
  "kernelspec": {
   "display_name": "Python 3",
   "language": "python",
   "name": "python3"
  },
  "language_info": {
   "codemirror_mode": {
    "name": "ipython",
    "version": 3
   },
   "file_extension": ".py",
   "mimetype": "text/x-python",
   "name": "python",
   "nbconvert_exporter": "python",
   "pygments_lexer": "ipython3",
   "version": "3.5.1"
  }
 },
 "nbformat": 4,
 "nbformat_minor": 0
}
